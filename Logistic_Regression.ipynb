{
  "nbformat": 4,
  "nbformat_minor": 0,
  "metadata": {
    "colab": {
      "provenance": []
    },
    "kernelspec": {
      "name": "python3",
      "display_name": "Python 3"
    },
    "language_info": {
      "name": "python"
    }
  },
  "cells": [
    {
      "cell_type": "markdown",
      "source": [
        "**Q1.** What is Logistic Regression, and how does it differ from Linear Regression?\n",
        "Answer: Logistic Regression is a supervised learning algorithm used for classification problems. It predicts the probability that an observation belongs to a particular category, using the logistic (sigmoid) function to map output values between 0 and 1.\n",
        "\n",
        "Linear Regression predicts continuous numerical values and uses the least squares method.\n",
        "\n",
        "Logistic Regression predicts discrete categories (e.g., yes/no) and uses maximum likelihood estimation.\n",
        "\n",
        "In logistic regression, the dependent variable is categorical, whereas in linear regression, it’s continuous.\n",
        "\n",
        "**Q2.** Role of the Sigmoid Function in Logistic Regression\n",
        "Answer: The sigmoid function transforms a linear combination of features into a probability between 0 and 1:\n",
        "\n",
        "σ(z)= 1/ 1+e^-z\n",
        "\n",
        "\n",
        "This mapping allows the model to interpret outputs as probabilities, which can then be thresholded (e.g., 0.5) to make binary predictions.\n",
        "\n",
        "**Q3. **Regularization in Logistic Regression and Why It’s Needed\n",
        "Answer: Regularization adds a penalty term to the loss function to prevent overfitting by discouraging overly complex models:\n",
        "\n",
        "L1 (Lasso): Adds the absolute value of coefficients (encourages sparsity).\n",
        "\n",
        "L2 (Ridge): Adds the square of coefficients (shrinks weights).\n",
        "It helps improve generalization by controlling the magnitude of feature coefficients.\n",
        "\n",
        "**Q4. **Common Evaluation Metrics for Classification Models\n",
        "Answer: Accuracy: Proportion of correctly classified instances.\n",
        "\n",
        "Precision: Proportion of positive predictions that are correct.\n",
        "\n",
        "Recall (Sensitivity): Proportion of actual positives correctly identified.\n",
        "\n",
        "F1-Score: Harmonic mean of precision and recall.\n",
        "\n",
        "ROC-AUC: Measures model discrimination capability.\n",
        "These metrics provide different perspectives, especially important for imbalanced datasets."
      ],
      "metadata": {
        "id": "mzHVkbn0CQg_"
      }
    },
    {
      "cell_type": "markdown",
      "source": [
        "**Q5** Write a Python program that loads a CSV file into a Pandas DataFrame, splits into train/test sets, trains a Logistic Regression model, and prints its accuracy."
      ],
      "metadata": {
        "id": "U88dLabdDEml"
      }
    },
    {
      "cell_type": "code",
      "source": [
        "from sklearn.datasets import load_iris\n",
        "from sklearn.model_selection import train_test_split\n",
        "from sklearn.linear_model import LogisticRegression\n",
        "from sklearn.metrics import accuracy_score\n",
        "import pandas as pd\n",
        "\n",
        "# Load dataset\n",
        "data = load_iris()\n",
        "X, y = data.data, data.target\n",
        "\n",
        "# Train/test split\n",
        "X_train, X_test, y_train, y_test = train_test_split(X, y, test_size=0.3, random_state=42)\n",
        "\n",
        "# Model\n",
        "model = LogisticRegression(max_iter=200)\n",
        "model.fit(X_train, y_train)\n",
        "\n",
        "# Predictions & accuracy\n",
        "y_pred = model.predict(X_test)\n",
        "print(\"Accuracy:\", accuracy_score(y_test, y_pred))"
      ],
      "metadata": {
        "colab": {
          "base_uri": "https://localhost:8080/"
        },
        "id": "Bq7YKHmqDWR_",
        "outputId": "89fbc7ee-263e-4bce-ef7c-c7873232ef75"
      },
      "execution_count": 1,
      "outputs": [
        {
          "output_type": "stream",
          "name": "stdout",
          "text": [
            "Accuracy: 1.0\n"
          ]
        }
      ]
    },
    {
      "cell_type": "markdown",
      "source": [
        "**Q6** Write a Python program to train a Logistic Regression model using L2 regularization (Ridge) and print the model coefficients and accuracy."
      ],
      "metadata": {
        "id": "nHW0wIweDbsF"
      }
    },
    {
      "cell_type": "code",
      "source": [
        "from sklearn.linear_model import LogisticRegression\n",
        "from sklearn.metrics import accuracy_score\n",
        "\n",
        "# Model with L2 regularization (Ridge) - default is L2\n",
        "model_l2 = LogisticRegression(penalty='l2', max_iter=200)\n",
        "model_l2.fit(X_train, y_train)\n",
        "\n",
        "# Predictions & accuracy\n",
        "y_pred_l2 = model_l2.predict(X_test)\n",
        "print(\"Accuracy with L2 regularization:\", accuracy_score(y_test, y_pred_l2))\n",
        "\n",
        "# Print coefficients\n",
        "print(\"Model coefficients:\", model_l2.coef_)"
      ],
      "metadata": {
        "colab": {
          "base_uri": "https://localhost:8080/"
        },
        "id": "Pg29nQx3DEJP",
        "outputId": "1a2feff3-b10c-41e3-a324-a10985b0ecd9"
      },
      "execution_count": 2,
      "outputs": [
        {
          "output_type": "stream",
          "name": "stdout",
          "text": [
            "Accuracy with L2 regularization: 1.0\n",
            "Model coefficients: [[-0.40538546  0.86892246 -2.2778749  -0.95680114]\n",
            " [ 0.46642685 -0.37487888 -0.18745257 -0.72127133]\n",
            " [-0.06104139 -0.49404358  2.46532746  1.67807247]]\n"
          ]
        }
      ]
    },
    {
      "cell_type": "markdown",
      "source": [
        "**Q7** Write a Python program to train a Logistic Regression model for multiclass classification using multi_class='ovr' and print the classification report. (Use Dataset from sklearn package)"
      ],
      "metadata": {
        "id": "siPfvM68D9XW"
      }
    },
    {
      "cell_type": "code",
      "metadata": {
        "colab": {
          "base_uri": "https://localhost:8080/"
        },
        "id": "9c0bde5a",
        "outputId": "6c105248-e39c-4c9d-d481-8ad58578b14f"
      },
      "source": [
        "from sklearn.linear_model import LogisticRegression\n",
        "from sklearn.metrics import classification_report\n",
        "\n",
        "# Model with multi_class='ovr'\n",
        "model_ovr = LogisticRegression(multi_class='ovr', max_iter=200)\n",
        "model_ovr.fit(X_train, y_train)\n",
        "\n",
        "# Predictions\n",
        "y_pred_ovr = model_ovr.predict(X_test)\n",
        "\n",
        "# Print classification report\n",
        "print(\"Classification Report (multi_class='ovr'):\\n\", classification_report(y_test, y_pred_ovr))"
      ],
      "execution_count": 3,
      "outputs": [
        {
          "output_type": "stream",
          "name": "stderr",
          "text": [
            "/usr/local/lib/python3.11/dist-packages/sklearn/linear_model/_logistic.py:1256: FutureWarning: 'multi_class' was deprecated in version 1.5 and will be removed in 1.7. Use OneVsRestClassifier(LogisticRegression(..)) instead. Leave it to its default value to avoid this warning.\n",
            "  warnings.warn(\n"
          ]
        },
        {
          "output_type": "stream",
          "name": "stdout",
          "text": [
            "Classification Report (multi_class='ovr'):\n",
            "               precision    recall  f1-score   support\n",
            "\n",
            "           0       1.00      1.00      1.00        19\n",
            "           1       1.00      0.85      0.92        13\n",
            "           2       0.87      1.00      0.93        13\n",
            "\n",
            "    accuracy                           0.96        45\n",
            "   macro avg       0.96      0.95      0.95        45\n",
            "weighted avg       0.96      0.96      0.96        45\n",
            "\n"
          ]
        }
      ]
    },
    {
      "cell_type": "code",
      "source": [],
      "metadata": {
        "id": "vsLT0vz9ETwe"
      },
      "execution_count": null,
      "outputs": []
    },
    {
      "cell_type": "markdown",
      "source": [
        "**Q8** Write a Python program to apply GridSearchCV to tune C and penalty hyperparameters for Logistic Regression and print the best parameters and validation accuracy."
      ],
      "metadata": {
        "id": "g_dP2UioEUd1"
      }
    },
    {
      "cell_type": "code",
      "metadata": {
        "colab": {
          "base_uri": "https://localhost:8080/"
        },
        "id": "806e1ec6",
        "outputId": "a7046fba-c378-46aa-d000-5bb509b6fbfe"
      },
      "source": [
        "from sklearn.model_selection import GridSearchCV\n",
        "from sklearn.linear_model import LogisticRegression\n",
        "from sklearn.metrics import accuracy_score\n",
        "\n",
        "# Define the parameter grid\n",
        "param_grid = {'C': [0.001, 0.01, 0.1, 1, 10, 100],\n",
        "              'penalty': ['l1', 'l2']} # 'elasticnet' and 'none' are also options depending on solver\n",
        "\n",
        "# Create a Logistic Regression model\n",
        "# Note: Some solvers don't support all penalties. 'liblinear' supports 'l1' and 'l2'.\n",
        "model = LogisticRegression(solver='liblinear', max_iter=200)\n",
        "\n",
        "# Create GridSearchCV object\n",
        "grid_search = GridSearchCV(model, param_grid, cv=5, scoring='accuracy')\n",
        "\n",
        "# Fit the grid search to the data\n",
        "grid_search.fit(X_train, y_train)\n",
        "\n",
        "# Print the best parameters and best score\n",
        "print(\"Best parameters:\", grid_search.best_params_)\n",
        "print(\"Best validation accuracy:\", grid_search.best_score_)\n",
        "\n",
        "# Evaluate the best model on the test set\n",
        "best_model = grid_search.best_estimator_\n",
        "y_pred = best_model.predict(X_test)\n",
        "test_accuracy = accuracy_score(y_test, y_pred)\n",
        "print(\"Test accuracy with best model:\", test_accuracy)"
      ],
      "execution_count": 5,
      "outputs": [
        {
          "output_type": "stream",
          "name": "stdout",
          "text": [
            "Best parameters: {'C': 10, 'penalty': 'l2'}\n",
            "Best validation accuracy: 0.9523809523809523\n",
            "Test accuracy with best model: 1.0\n"
          ]
        }
      ]
    },
    {
      "cell_type": "markdown",
      "source": [
        "**Q9** Write a Python program to standardize the features before training Logistic Regression and compare the model's accuracy with and without scaling."
      ],
      "metadata": {
        "id": "nziEmFIUEjlk"
      }
    },
    {
      "cell_type": "code",
      "metadata": {
        "colab": {
          "base_uri": "https://localhost:8080/"
        },
        "id": "8fc53077",
        "outputId": "85835408-60bf-45d1-d958-8e2304a57d7b"
      },
      "source": [
        "from sklearn.preprocessing import StandardScaler\n",
        "\n",
        "# Without scaling\n",
        "model = LogisticRegression(max_iter=200)\n",
        "model.fit(X_train, y_train)\n",
        "print(\"Accuracy without scaling:\", accuracy_score(y_test, model.predict(X_test)))\n",
        "\n",
        "# With scaling\n",
        "scaler = StandardScaler()\n",
        "X_train_scaled = scaler.fit_transform(X_train)\n",
        "X_test_scaled = scaler.transform(X_test)\n",
        "\n",
        "model_scaled = LogisticRegression(max_iter=200)\n",
        "model_scaled.fit(X_train_scaled, y_train)\n",
        "print(\"Accuracy with scaling:\", accuracy_score(y_test, model_scaled.predict(X_test_scaled)))\n"
      ],
      "execution_count": 6,
      "outputs": [
        {
          "output_type": "stream",
          "name": "stdout",
          "text": [
            "Accuracy without scaling: 1.0\n",
            "Accuracy with scaling: 1.0\n"
          ]
        }
      ]
    },
    {
      "cell_type": "markdown",
      "source": [
        "**Q10**  Imagine you are working at an e-commerce company that wants to predict which customers will respond to a marketing campaign. Given an imbalanced dataset (only 5% of customers respond), describe the approach you’d take to build a Logistic Regression model — including data handling, feature scaling, balancing classes, hyperparameter tuning, and evaluating the model for this real-world business use case."
      ],
      "metadata": {
        "id": "YJWsV2-REv2v"
      }
    },
    {
      "cell_type": "markdown",
      "metadata": {
        "id": "909320e8"
      },
      "source": [
        "Here's an approach to building a Logistic Regression model for predicting customer response in an imbalanced e-commerce dataset:\n",
        "\n",
        "**1. Data Handling and Exploration:**\n",
        "\n",
        "*   **Load the data:** Load the customer data into a pandas DataFrame.\n",
        "*   **Understand the data:** Explore the features, identify potential issues like missing values, outliers, and the distribution of the target variable (customer response).\n",
        "*   **Feature Engineering:** Create new features that could be relevant for predicting response, such as:\n",
        "    *   Customer purchase history (frequency, recency, monetary value).\n",
        "    *   Customer demographics.\n",
        "    *   Website activity (time spent, pages visited).\n",
        "    *   Previous campaign interactions.\n",
        "\n",
        "**2. Feature Scaling:**\n",
        "\n",
        "*   **Standardize numerical features:** Logistic Regression is sensitive to the scale of features. Use `StandardScaler` or `MinMaxScaler` to standardize or normalize numerical features.\n",
        "\n",
        "**3. Handling Class Imbalance:**\n",
        "\n",
        "*   **Understand the problem:** With only 5% of customers responding, the dataset is highly imbalanced. Simply training a model on this data will likely result in a model that predicts the majority class (non-responders) most of the time, leading to high accuracy but poor performance on the minority class (responders).\n",
        "*   **Choose a resampling technique:** Several techniques can address class imbalance:\n",
        "    *   **Oversampling the minority class:**\n",
        "        *   **SMOTE (Synthetic Minority Over-sampling Technique):** Creates synthetic samples of the minority class.\n",
        "        *   **Random oversampling:** Duplicates random instances of the minority class.\n",
        "    *   **Undersampling the majority class:**\n",
        "        *   **Random undersampling:** Removes random instances of the majority class.\n",
        "        *   **NearMiss:** Selects samples from the majority class that are close to the minority class.\n",
        "*   **Apply the technique:** Apply the chosen resampling technique to the training data *before* training the model. It's crucial *not* to apply it to the test data, as this would lead to an unrealistic evaluation of the model's performance on real-world data.\n",
        "\n",
        "**4. Model Selection and Training:**\n",
        "\n",
        "*   **Choose Logistic Regression:** As requested, use Logistic Regression. It's a good choice for binary classification and provides interpretable coefficients.\n",
        "*   **Train the model:** Train the Logistic Regression model on the balanced training data.\n",
        "\n",
        "**5. Hyperparameter Tuning:**\n",
        "\n",
        "*   **Identify key hyperparameters:** For Logistic Regression, important hyperparameters include:\n",
        "    *   `C`: Inverse of regularization strength. Smaller values specify stronger regularization.\n",
        "    *   `penalty`: The type of regularization ('l1', 'l2', 'elasticnet', 'none').\n",
        "    *   `solver`: Algorithm to use for optimization ('liblinear', 'lbfgs', 'sag', 'saga', 'newton-cg').\n",
        "*   **Use GridSearchCV or RandomizedSearchCV:** Employ cross-validation with `GridSearchCV` or `RandomizedSearchCV` to find the best combination of hyperparameters that maximizes a relevant evaluation metric (see below).\n",
        "\n",
        "**6. Model Evaluation:**\n",
        "\n",
        "*   **Choose appropriate metrics:** For imbalanced datasets, accuracy is not a reliable metric. Instead, focus on metrics that assess the model's ability to correctly identify the minority class:\n",
        "    *   **Precision:** Of all the customers the model predicted would respond, what proportion actually responded?\n",
        "    *   **Recall (Sensitivity):** Of all the customers who actually responded, what proportion did the model correctly identify?\n",
        "    *   **F1-Score:** The harmonic mean of precision and recall, providing a balance between the two.\n",
        "    *   **ROC-AUC:** Measures the model's ability to distinguish between positive and negative classes. A higher AUC indicates better discrimination.\n",
        "    *   **Confusion Matrix:** Provides a detailed breakdown of true positives, true negatives, false positives, and false negatives.\n",
        "*   **Evaluate on the test set:** Evaluate the tuned model on the *original, unbalanced* test set using the chosen metrics. This provides a realistic assessment of how the model will perform in a real-world scenario.\n",
        "\n",
        "**7. Interpretation and Deployment:**\n",
        "\n",
        "*   **Interpret coefficients:** Analyze the model's coefficients to understand which features are most influential in predicting customer response. This can provide valuable business insights.\n",
        "*   **Set a probability threshold:** Instead of using the default 0.5 threshold for classification, consider adjusting it based on the business objective. For example, if the cost of a false negative (failing to identify a responder) is higher than the cost of a false positive (incorrectly identifying a non-responder), you might lower the threshold to increase recall.\n",
        "*   **Deploy the model:** Once satisfied with the model's performance, deploy it to predict customer responses for future marketing campaigns.\n",
        "*   **Monitor and retrain:** Continuously monitor the model's performance in production and retrain it periodically with new data to ensure it remains accurate and relevant.\n",
        "\n",
        "By following these steps, you can build a robust Logistic Regression model that effectively predicts customer response in an imbalanced dataset, providing valuable insights for your e-commerce marketing efforts."
      ]
    }
  ]
}