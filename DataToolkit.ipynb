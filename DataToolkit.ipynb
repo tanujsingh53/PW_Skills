{
  "cells": [
    {
      "cell_type": "markdown",
      "id": "24ecd3cc-2090-48a2-837a-0ffa0c882508",
      "metadata": {
        "id": "24ecd3cc-2090-48a2-837a-0ffa0c882508"
      },
      "source": [
        " 1. What is NumPy, and why is it widely used in Python?\n",
        "\n",
        "Answer:- NumPy (Numerical Python) is a Python library for fast numerical computations using multi-dimensional arrays. It’s widely used because it supports:\n",
        "\n",
        "*   Fast operations with C-backed arrays\n",
        "*   Broadcasting, vectorized operations\n",
        "*   Integration with Pandas, SciPy, Scikit-learn, TensorFlow\n",
        "\n"
      ]
    },
    {
      "cell_type": "markdown",
      "id": "ae16f218-d1f7-434e-a550-a24a2b77dcbc",
      "metadata": {
        "id": "ae16f218-d1f7-434e-a550-a24a2b77dcbc"
      },
      "source": [
        "2. How does broadcasting work in NumPy?\n",
        "\n",
        "Answer:- Broadcasting allows NumPy to perform element-wise operations on arrays of different shapes without explicitly copying data.\n",
        "\n",
        "*   NumPy compares array shapes from right to left.\n",
        "*   wo dimensions are compatible when:\n",
        "    - They are equal, or\n",
        "    - One of them is 1\n",
        "\n"
      ]
    },
    {
      "cell_type": "code",
      "source": [
        "import numpy as np\n",
        "\n",
        "a = np.array([2, 4, 6])\n",
        "b = np.array([[10], [20]])\n",
        "\n",
        "result = a + b\n",
        "print(result)\n"
      ],
      "metadata": {
        "colab": {
          "base_uri": "https://localhost:8080/"
        },
        "id": "Ve8SNkDL9FV2",
        "outputId": "7d8b56d9-eac5-401b-c86a-9372afba3821"
      },
      "id": "Ve8SNkDL9FV2",
      "execution_count": 14,
      "outputs": [
        {
          "output_type": "stream",
          "name": "stdout",
          "text": [
            "[[12 14 16]\n",
            " [22 24 26]]\n"
          ]
        }
      ]
    },
    {
      "cell_type": "markdown",
      "id": "96e69b0c-8653-4bca-8297-5aff9afd8287",
      "metadata": {
        "id": "96e69b0c-8653-4bca-8297-5aff9afd8287"
      },
      "source": [
        "3. What is a Pandas DataFrame?\n",
        "\n",
        "Answer:- A Pandas DataFrame is a two-dimensional, labeled data structure in the Pandas library for Python. It is designed to handle tabular data with columns of potentially different data types, similar to a spreadsheet, a database table, or a dictionary of Series objects.\n"
      ]
    },
    {
      "cell_type": "markdown",
      "id": "a431a208-0151-4136-8cc0-eb8b7f93e5e3",
      "metadata": {
        "id": "a431a208-0151-4136-8cc0-eb8b7f93e5e3"
      },
      "source": [
        " 4. Explain the use of the groupby() method in Pandas.\n",
        "\n",
        "Answer:- groupby() splits the data into groups based on a key (like a column), then applies a function (e.g., mean(), sum()) and combines the results.\n",
        "Example: df.groupby('gender')['salary'].mean()"
      ]
    },
    {
      "cell_type": "markdown",
      "id": "948bbe99-6225-4823-a2fa-b43f6739b65d",
      "metadata": {
        "id": "948bbe99-6225-4823-a2fa-b43f6739b65d"
      },
      "source": [
        "5. Why is Seaborn preferred for statistical visualizations?\n",
        "Seaborn:\n",
        "\n",
        "Answer:- Is built on Matplotlib, but easier to use.\n",
        "\n",
        "Offers statistical plots like boxplots, violin plots, and regression lines.\n",
        "\n",
        "Integrates well with Pandas DataFrames.\n",
        "\n",
        "Has beautiful default themes."
      ]
    },
    {
      "cell_type": "markdown",
      "id": "58a01857-5578-4d9a-8b58-4f1f384af36d",
      "metadata": {
        "id": "58a01857-5578-4d9a-8b58-4f1f384af36d"
      },
      "source": [
        "6. Differences between NumPy arrays and Python lists:\n",
        "\n",
        "Answer:- Feature\tNumPy Array\tPython List\n",
        "Data Type\tHomogeneous\tHeterogeneous\n",
        "Speed\tFaster\tSlower\n",
        "Operations\tVectorized\tManual looping\n",
        "Memory\tLess\tMore\n"
      ]
    },
    {
      "cell_type": "markdown",
      "id": "3430ed68-619f-4681-9539-1cfab184db7e",
      "metadata": {
        "id": "3430ed68-619f-4681-9539-1cfab184db7e"
      },
      "source": [
        "7. What is a heatmap, and when should it be used?\n",
        "\n",
        "Answer:- A heatmap is a colored 2D visual representation of data, often used for:\n",
        "\n",
        "Correlation matrices\n",
        "\n",
        "Missing value visualization\n",
        "\n",
        "Detecting patterns in large datasets"
      ]
    },
    {
      "cell_type": "markdown",
      "id": "06a8303d-62ed-4377-bc69-ae0e7de72ffb",
      "metadata": {
        "id": "06a8303d-62ed-4377-bc69-ae0e7de72ffb"
      },
      "source": [
        " 8. What does “vectorized operation” mean in NumPy?\n",
        "\n",
        "Answer:- A vectorized operation applies a function to an entire array without loops, using optimized C code under the hood, making it fast and efficient.\n",
        "\n"
      ]
    },
    {
      "cell_type": "markdown",
      "id": "82a4678c-097a-4c61-a4ed-b2a7f6ee2fc9",
      "metadata": {
        "id": "82a4678c-097a-4c61-a4ed-b2a7f6ee2fc9"
      },
      "source": [
        " 9. How does Matplotlib differ from Plotly?\n",
        "\n",
        "Answer:- Feature\tMatplotlib\tPlotly\n",
        "Output\tStatic\tInteractive\n",
        "UI\tCode-heavy\tUser-friendly\n",
        "Use Case\tResearch, papers\tDashboards, web apps"
      ]
    },
    {
      "cell_type": "markdown",
      "id": "7a1c2d2b-b48e-4cca-84bc-1c019f563993",
      "metadata": {
        "id": "7a1c2d2b-b48e-4cca-84bc-1c019f563993"
      },
      "source": [
        "10. What is the significance of hierarchical indexing in Pandas?\n",
        "\n",
        "Answer:- Hierarchical indexing (MultiIndex) allows:\n",
        "\n",
        "Multiple levels of indexing (row/column)\n",
        "\n",
        "Better organization of multi-dimensional data\n",
        "\n",
        "Complex slicing and reshaping"
      ]
    },
    {
      "cell_type": "markdown",
      "id": "365aba95-f7cb-4077-92a5-8a557dbc98b9",
      "metadata": {
        "id": "365aba95-f7cb-4077-92a5-8a557dbc98b9"
      },
      "source": [
        "11. What is the role of Seaborn’s pairplot() function?\n",
        "\n",
        "Answer:- pairplot() creates a matrix of scatterplots to explore relationships between multiple numeric variables, great for EDA.\n",
        "\n"
      ]
    },
    {
      "cell_type": "markdown",
      "id": "726947b2-e572-4e33-8c7b-631f5ab894b4",
      "metadata": {
        "id": "726947b2-e572-4e33-8c7b-631f5ab894b4"
      },
      "source": [
        "12. What is the purpose of the describe() function in Pandas?\n",
        "\n",
        "Answer:- describe() summarizes numerical columns:\n",
        "\n",
        "count, mean, std, min, max, 25%, 50%, 75%\n",
        "\n",
        "Useful for quick statistical insights\n",
        "\n"
      ]
    },
    {
      "cell_type": "markdown",
      "id": "94f4e775-8d87-4d6a-be48-4d98c874b853",
      "metadata": {
        "id": "94f4e775-8d87-4d6a-be48-4d98c874b853"
      },
      "source": [
        "13. Why is handling missing data important in Pandas?\n",
        "\n",
        "Answer:- Missing data can:\n",
        "\n",
        "Bias analysis\n",
        "\n",
        "Break machine learning models\n",
        "Pandas provides methods to detect, fill, or drop missing values."
      ]
    },
    {
      "cell_type": "markdown",
      "id": "18131056-f62b-4829-81ec-2cc4c589b4ee",
      "metadata": {
        "id": "18131056-f62b-4829-81ec-2cc4c589b4ee"
      },
      "source": [
        "14. What are the benefits of using Plotly for data visualization?\n",
        "\n",
        "Answer:- Interactive plots (zoom, hover, click)\n",
        "\n",
        "Compatible with Dash for dashboards\n",
        "\n",
        "Rich visual types: 3D, maps, time series, animations\n",
        "\n"
      ]
    },
    {
      "cell_type": "markdown",
      "id": "c65a2b2a-940c-44e8-a2cb-8680db9b9144",
      "metadata": {
        "id": "c65a2b2a-940c-44e8-a2cb-8680db9b9144"
      },
      "source": [
        "15. How does NumPy handle multidimensional arrays?\n",
        "\n",
        "Answer:- NumPy uses ndarray to represent n-dimensional arrays. You can:\n",
        "\n",
        "Slice using array[ :, :, ...]\n",
        "\n",
        "Apply operations along any axis\n",
        "\n",
        "Perform matrix multiplication, reshaping, etc.\n",
        "\n"
      ]
    },
    {
      "cell_type": "markdown",
      "id": "cac8e83f-6770-4df4-a427-3d4f1c202baa",
      "metadata": {
        "id": "cac8e83f-6770-4df4-a427-3d4f1c202baa"
      },
      "source": [
        "16. What is the role of Bokeh in data visualization?\n",
        "\n",
        "Answer:- Bokeh is a Python library for building interactive, browser-based visualizations:\n",
        "\n",
        "Ideal for real-time dashboards\n",
        "\n",
        "Supports HTML/JS output\n",
        "\n",
        "Integrates with Flask or Django"
      ]
    },
    {
      "cell_type": "markdown",
      "id": "9951f399-b461-4139-bd61-6a8ebd6c0ecc",
      "metadata": {
        "id": "9951f399-b461-4139-bd61-6a8ebd6c0ecc"
      },
      "source": [
        "17. Explain the difference between apply() and map() in Pandas.\n",
        "\n",
        "Answer:- map() → Element-wise function on Series only\n",
        "\n",
        "apply() → Row/column-wise function on DataFrame or Series\n",
        "\n",
        "Example:\n",
        "\n",
        "df['age'].map(lambda x: x*2)\n",
        "df.apply(np.sum, axis=1)  # row-wise sum\n"
      ]
    },
    {
      "cell_type": "markdown",
      "id": "04ddaf8b-c83f-4000-b495-6ded79e4770c",
      "metadata": {
        "id": "04ddaf8b-c83f-4000-b495-6ded79e4770c"
      },
      "source": [
        "18. What are some advanced features of NumPy?\n",
        "\n",
        "Answer:- Linear Algebra: np.linalg\n",
        "\n",
        "Random module: np.random\n",
        "\n",
        "Fourier transforms\n",
        "\n",
        "Masked arrays\n",
        "\n",
        "Broadcasting rules\n",
        "\n",
        "Memory-mapping of large arrays\n",
        "\n"
      ]
    },
    {
      "cell_type": "markdown",
      "id": "348eb432-fed0-41fb-972f-019897a4b988",
      "metadata": {
        "id": "348eb432-fed0-41fb-972f-019897a4b988"
      },
      "source": [
        "19. How does Pandas simplify time series analysis?\n",
        "\n",
        "Answer:- Built-in datetime indexing\n",
        "\n",
        "Easy resampling, shifting, and rolling operations\n",
        "\n",
        "Support for periods, time zones, lags\n",
        "\n"
      ]
    },
    {
      "cell_type": "markdown",
      "id": "01df1968-095d-4965-9340-d0fec970f546",
      "metadata": {
        "id": "01df1968-095d-4965-9340-d0fec970f546"
      },
      "source": [
        " 20. What is the role of a pivot table in Pandas?\n",
        "\n",
        "Answer:- pivot_table() summarizes data by:\n",
        "\n",
        "Grouping and aggregating (mean, sum, etc.)\n",
        "\n",
        "Reshaping long data into wide format\n",
        "Example:\n",
        "\n",
        "df.pivot_table(values='sales', index='region', columns='year')"
      ]
    },
    {
      "cell_type": "markdown",
      "id": "148a69ab-8c34-49df-9adb-2050a67dd29c",
      "metadata": {
        "id": "148a69ab-8c34-49df-9adb-2050a67dd29c"
      },
      "source": [
        "21. Why is NumPy’s array slicing faster than Python’s list slicing?\n",
        "\n",
        "Answer:- Arrays are stored in contiguous memory.\n",
        "\n",
        "No type-checking overhead.\n",
        "\n",
        "Uses optimized C implementations.\n",
        "\n"
      ]
    },
    {
      "cell_type": "markdown",
      "id": "edbbf615-8c00-4364-bce0-b21bb874bd2b",
      "metadata": {
        "id": "edbbf615-8c00-4364-bce0-b21bb874bd2b"
      },
      "source": [
        "22. What are some common use cases for Seaborn?\n",
        "\n",
        "Answer:- Distribution plots (distplot, kdeplot)\n",
        "\n",
        "Categorical plots (boxplot, violinplot)\n",
        "\n",
        "Relationship plots (scatterplot, lineplot)\n",
        "\n",
        "Correlation heatmaps\n",
        "\n",
        "Pairwise plots for multivariate EDA"
      ]
    },
    {
      "cell_type": "markdown",
      "id": "325277fb-75f7-4b39-9fc7-6c4d2ee70ef0",
      "metadata": {
        "id": "325277fb-75f7-4b39-9fc7-6c4d2ee70ef0"
      },
      "source": [
        " # Practical"
      ]
    },
    {
      "cell_type": "markdown",
      "id": "80875f6d-4a20-4ac3-9789-bfd377d06328",
      "metadata": {
        "id": "80875f6d-4a20-4ac3-9789-bfd377d06328"
      },
      "source": [
        "1) How do you create a 2D NumPy array and calculate the sum of each row"
      ]
    },
    {
      "cell_type": "code",
      "execution_count": null,
      "id": "31b08eaf-5b40-4117-a19b-f7082519675a",
      "metadata": {
        "id": "31b08eaf-5b40-4117-a19b-f7082519675a",
        "outputId": "933520b7-b34d-42d6-8dee-76a47ecea5af"
      },
      "outputs": [
        {
          "name": "stdout",
          "output_type": "stream",
          "text": [
            "[ 6 15]\n"
          ]
        }
      ],
      "source": [
        "import numpy as np\n",
        "\n",
        "arr = np.array([[1, 2, 3], [4, 5, 6]])\n",
        "row_sum = np.sum(arr, axis=1)\n",
        "print(row_sum)\n"
      ]
    },
    {
      "cell_type": "markdown",
      "id": "21870c56-a955-4e83-9422-382b9185c463",
      "metadata": {
        "id": "21870c56-a955-4e83-9422-382b9185c463"
      },
      "source": [
        "2) Write a Pandas script to find the mean of a specific column in a DataFrame"
      ]
    },
    {
      "cell_type": "code",
      "execution_count": null,
      "id": "b65e0c52-8dc6-44cb-bb19-7413bce157d6",
      "metadata": {
        "id": "b65e0c52-8dc6-44cb-bb19-7413bce157d6",
        "outputId": "6c219e17-eb4a-4d6b-83df-6e76bb0b407b"
      },
      "outputs": [
        {
          "name": "stdout",
          "output_type": "stream",
          "text": [
            "27.5\n"
          ]
        }
      ],
      "source": [
        "import pandas as pd\n",
        "\n",
        "df = pd.DataFrame({'age': [20, 25, 30, 35]})\n",
        "mean_age = df['age'].mean()\n",
        "print(mean_age)"
      ]
    },
    {
      "cell_type": "markdown",
      "id": "48a52cf5-8f12-4bac-a9ec-62c0f0a50df2",
      "metadata": {
        "id": "48a52cf5-8f12-4bac-a9ec-62c0f0a50df2"
      },
      "source": [
        "3) Create a scatter plot using Matplotlib"
      ]
    },
    {
      "cell_type": "code",
      "execution_count": null,
      "id": "9eb7d314-a1be-4b7b-9ebc-1d04b591aafb",
      "metadata": {
        "id": "9eb7d314-a1be-4b7b-9ebc-1d04b591aafb",
        "outputId": "19259204-46d2-42b9-910e-2baf680f5690"
      },
      "outputs": [
        {
          "data": {
            "image/png": "[encoded data removed]",
            "text/plain": [
              "<Figure size 640x480 with 1 Axes>"
            ]
          },
          "metadata": {},
          "output_type": "display_data"
        }
      ],
      "source": [
        "import matplotlib.pyplot as plt\n",
        "\n",
        "x = [1, 2, 3, 4]\n",
        "y = [10, 20, 25, 30]\n",
        "plt.scatter(x, y)\n",
        "plt.title(\"Scatter Plot\")\n",
        "plt.xlabel(\"X\")\n",
        "plt.ylabel(\"Y\")\n",
        "plt.show()\n"
      ]
    },
    {
      "cell_type": "markdown",
      "id": "149969fd-3158-4006-ae8b-2126dd95d0d2",
      "metadata": {
        "id": "149969fd-3158-4006-ae8b-2126dd95d0d2"
      },
      "source": [
        "4) How do you calculate the correlation matrix using Seaborn and visualize it with a heatmap"
      ]
    },
    {
      "cell_type": "code",
      "execution_count": null,
      "id": "ddac39d8-2eb5-4be5-a504-b69c328ff7f5",
      "metadata": {
        "id": "ddac39d8-2eb5-4be5-a504-b69c328ff7f5",
        "outputId": "a4a2b2c0-3c62-4f53-95b1-48e0b4d52fb9"
      },
      "outputs": [
        {
          "data": {
            "text/plain": [
              "<Axes: >"
            ]
          },
          "execution_count": 4,
          "metadata": {},
          "output_type": "execute_result"
        },
        {
          "data": {
            "image/png": "[encoded data removed]",
            "text/plain": [
              "<Figure size 640x480 with 2 Axes>"
            ]
          },
          "metadata": {},
          "output_type": "display_data"
        }
      ],
      "source": [
        "import seaborn as sns\n",
        "import pandas as pd\n",
        "\n",
        "data = pd.DataFrame({\n",
        "    'A': [1, 2, 3, 4],\n",
        "    'B': [4, 3, 2, 1],\n",
        "    'C': [5, 6, 7, 8]\n",
        "})\n",
        "corr = data.corr()\n",
        "sns.heatmap(corr, annot=True, cmap='coolwarm')\n"
      ]
    },
    {
      "cell_type": "markdown",
      "id": "d39bc27c-2909-44ed-bb92-7d957b8b4b1f",
      "metadata": {
        "id": "d39bc27c-2909-44ed-bb92-7d957b8b4b1f"
      },
      "source": [
        "5) Generate a bar plot using Plotly"
      ]
    },
    {
      "cell_type": "code",
      "execution_count": 5,
      "id": "04e24528-47aa-4cc8-a12a-9eb1f19f7e0b",
      "metadata": {
        "colab": {
          "base_uri": "https://localhost:8080/",
          "height": 542
        },
        "id": "04e24528-47aa-4cc8-a12a-9eb1f19f7e0b",
        "outputId": "192a12a5-6c23-436d-a868-e1b2baad18bc"
      },
      "outputs": [
        {
          "output_type": "display_data",
          "data": {
            "text/html": [
              "<html>\n",
              "<head><meta charset=\"utf-8\" /></head>\n",
              "<body>\n",
              "    <div>            <script src=\"https://cdnjs.cloudflare.com/ajax/libs/mathjax/2.7.5/MathJax.js?config=TeX-AMS-MML_SVG\"></script><script type=\"text/javascript\">if (window.MathJax && window.MathJax.Hub && window.MathJax.Hub.Config) {window.MathJax.Hub.Config({SVG: {font: \"STIX-Web\"}});}</script>                <script type=\"text/javascript\">window.PlotlyConfig = {MathJaxConfig: 'local'};</script>\n",
              "        <script charset=\"utf-8\" src=\"https://cdn.plot.ly/plotly-2.35.2.min.js\"></script>                <div id=\"98a5a59a-14c8-41c2-979d-8aa1dc62cc84\" class=\"plotly-graph-div\" style=\"height:525px; width:100%;\"></div>            <script type=\"text/javascript\">                                    window.PLOTLYENV=window.PLOTLYENV || {};                                    if (document.getElementById(\"98a5a59a-14c8-41c2-979d-8aa1dc62cc84\")) {                    Plotly.newPlot(                        \"98a5a59a-14c8-41c2-979d-8aa1dc62cc84\",                        [{\"alignmentgroup\":\"True\",\"hovertemplate\":\"Fruit=%{x}\\u003cbr\\u003eQuantity=%{y}\\u003cextra\\u003e\\u003c\\u002fextra\\u003e\",\"legendgroup\":\"\",\"marker\":{\"color\":\"#636efa\",\"pattern\":{\"shape\":\"\"}},\"name\":\"\",\"offsetgroup\":\"\",\"orientation\":\"v\",\"showlegend\":false,\"textposition\":\"auto\",\"x\":[\"Apple\",\"Mango\",\"Kiwi\"],\"xaxis\":\"x\",\"y\":[10,25,15],\"yaxis\":\"y\",\"type\":\"bar\"}],                        {\"template\":{\"data\":{\"histogram2dcontour\":[{\"type\":\"histogram2dcontour\",\"colorbar\":{\"outlinewidth\":0,\"ticks\":\"\"},\"colorscale\":[[0.0,\"#0d0887\"],[0.1111111111111111,\"#46039f\"],[0.2222222222222222,\"#7201a8\"],[0.3333333333333333,\"#9c179e\"],[0.4444444444444444,\"#bd3786\"],[0.5555555555555556,\"#d8576b\"],[0.6666666666666666,\"#ed7953\"],[0.7777777777777778,\"#fb9f3a\"],[0.8888888888888888,\"#fdca26\"],[1.0,\"#f0f921\"]]}],\"choropleth\":[{\"type\":\"choropleth\",\"colorbar\":{\"outlinewidth\":0,\"ticks\":\"\"}}],\"histogram2d\":[{\"type\":\"histogram2d\",\"colorbar\":{\"outlinewidth\":0,\"ticks\":\"\"},\"colorscale\":[[0.0,\"#0d0887\"],[0.1111111111111111,\"#46039f\"],[0.2222222222222222,\"#7201a8\"],[0.3333333333333333,\"#9c179e\"],[0.4444444444444444,\"#bd3786\"],[0.5555555555555556,\"#d8576b\"],[0.6666666666666666,\"#ed7953\"],[0.7777777777777778,\"#fb9f3a\"],[0.8888888888888888,\"#fdca26\"],[1.0,\"#f0f921\"]]}],\"heatmap\":[{\"type\":\"heatmap\",\"colorbar\":{\"outlinewidth\":0,\"ticks\":\"\"},\"colorscale\":[[0.0,\"#0d0887\"],[0.1111111111111111,\"#46039f\"],[0.2222222222222222,\"#7201a8\"],[0.3333333333333333,\"#9c179e\"],[0.4444444444444444,\"#bd3786\"],[0.5555555555555556,\"#d8576b\"],[0.6666666666666666,\"#ed7953\"],[0.7777777777777778,\"#fb9f3a\"],[0.8888888888888888,\"#fdca26\"],[1.0,\"#f0f921\"]]}],\"heatmapgl\":[{\"type\":\"heatmapgl\",\"colorbar\":{\"outlinewidth\":0,\"ticks\":\"\"},\"colorscale\":[[0.0,\"#0d0887\"],[0.1111111111111111,\"#46039f\"],[0.2222222222222222,\"#7201a8\"],[0.3333333333333333,\"#9c179e\"],[0.4444444444444444,\"#bd3786\"],[0.5555555555555556,\"#d8576b\"],[0.6666666666666666,\"#ed7953\"],[0.7777777777777778,\"#fb9f3a\"],[0.8888888888888888,\"#fdca26\"],[1.0,\"#f0f921\"]]}],\"contourcarpet\":[{\"type\":\"contourcarpet\",\"colorbar\":{\"outlinewidth\":0,\"ticks\":\"\"}}],\"contour\":[{\"type\":\"contour\",\"colorbar\":{\"outlinewidth\":0,\"ticks\":\"\"},\"colorscale\":[[0.0,\"#0d0887\"],[0.1111111111111111,\"#46039f\"],[0.2222222222222222,\"#7201a8\"],[0.3333333333333333,\"#9c179e\"],[0.4444444444444444,\"#bd3786\"],[0.5555555555555556,\"#d8576b\"],[0.6666666666666666,\"#ed7953\"],[0.7777777777777778,\"#fb9f3a\"],[0.8888888888888888,\"#fdca26\"],[1.0,\"#f0f921\"]]}],\"surface\":[{\"type\":\"surface\",\"colorbar\":{\"outlinewidth\":0,\"ticks\":\"\"},\"colorscale\":[[0.0,\"#0d0887\"],[0.1111111111111111,\"#46039f\"],[0.2222222222222222,\"#7201a8\"],[0.3333333333333333,\"#9c179e\"],[0.4444444444444444,\"#bd3786\"],[0.5555555555555556,\"#d8576b\"],[0.6666666666666666,\"#ed7953\"],[0.7777777777777778,\"#fb9f3a\"],[0.8888888888888888,\"#fdca26\"],[1.0,\"#f0f921\"]]}],\"mesh3d\":[{\"type\":\"mesh3d\",\"colorbar\":{\"outlinewidth\":0,\"ticks\":\"\"}}],\"scatter\":[{\"fillpattern\":{\"fillmode\":\"overlay\",\"size\":10,\"solidity\":0.2},\"type\":\"scatter\"}],\"parcoords\":[{\"type\":\"parcoords\",\"line\":{\"colorbar\":{\"outlinewidth\":0,\"ticks\":\"\"}}}],\"scatterpolargl\":[{\"type\":\"scatterpolargl\",\"marker\":{\"colorbar\":{\"outlinewidth\":0,\"ticks\":\"\"}}}],\"bar\":[{\"error_x\":{\"color\":\"#2a3f5f\"},\"error_y\":{\"color\":\"#2a3f5f\"},\"marker\":{\"line\":{\"color\":\"#E5ECF6\",\"width\":0.5},\"pattern\":{\"fillmode\":\"overlay\",\"size\":10,\"solidity\":0.2}},\"type\":\"bar\"}],\"scattergeo\":[{\"type\":\"scattergeo\",\"marker\":{\"colorbar\":{\"outlinewidth\":0,\"ticks\":\"\"}}}],\"scatterpolar\":[{\"type\":\"scatterpolar\",\"marker\":{\"colorbar\":{\"outlinewidth\":0,\"ticks\":\"\"}}}],\"histogram\":[{\"marker\":{\"pattern\":{\"fillmode\":\"overlay\",\"size\":10,\"solidity\":0.2}},\"type\":\"histogram\"}],\"scattergl\":[{\"type\":\"scattergl\",\"marker\":{\"colorbar\":{\"outlinewidth\":0,\"ticks\":\"\"}}}],\"scatter3d\":[{\"type\":\"scatter3d\",\"line\":{\"colorbar\":{\"outlinewidth\":0,\"ticks\":\"\"}},\"marker\":{\"colorbar\":{\"outlinewidth\":0,\"ticks\":\"\"}}}],\"scattermapbox\":[{\"type\":\"scattermapbox\",\"marker\":{\"colorbar\":{\"outlinewidth\":0,\"ticks\":\"\"}}}],\"scatterternary\":[{\"type\":\"scatterternary\",\"marker\":{\"colorbar\":{\"outlinewidth\":0,\"ticks\":\"\"}}}],\"scattercarpet\":[{\"type\":\"scattercarpet\",\"marker\":{\"colorbar\":{\"outlinewidth\":0,\"ticks\":\"\"}}}],\"carpet\":[{\"aaxis\":{\"endlinecolor\":\"#2a3f5f\",\"gridcolor\":\"white\",\"linecolor\":\"white\",\"minorgridcolor\":\"white\",\"startlinecolor\":\"#2a3f5f\"},\"baxis\":{\"endlinecolor\":\"#2a3f5f\",\"gridcolor\":\"white\",\"linecolor\":\"white\",\"minorgridcolor\":\"white\",\"startlinecolor\":\"#2a3f5f\"},\"type\":\"carpet\"}],\"table\":[{\"cells\":{\"fill\":{\"color\":\"#EBF0F8\"},\"line\":{\"color\":\"white\"}},\"header\":{\"fill\":{\"color\":\"#C8D4E3\"},\"line\":{\"color\":\"white\"}},\"type\":\"table\"}],\"barpolar\":[{\"marker\":{\"line\":{\"color\":\"#E5ECF6\",\"width\":0.5},\"pattern\":{\"fillmode\":\"overlay\",\"size\":10,\"solidity\":0.2}},\"type\":\"barpolar\"}],\"pie\":[{\"automargin\":true,\"type\":\"pie\"}]},\"layout\":{\"autotypenumbers\":\"strict\",\"colorway\":[\"#636efa\",\"#EF553B\",\"#00cc96\",\"#ab63fa\",\"#FFA15A\",\"#19d3f3\",\"#FF6692\",\"#B6E880\",\"#FF97FF\",\"#FECB52\"],\"font\":{\"color\":\"#2a3f5f\"},\"hovermode\":\"closest\",\"hoverlabel\":{\"align\":\"left\"},\"paper_bgcolor\":\"white\",\"plot_bgcolor\":\"#E5ECF6\",\"polar\":{\"bgcolor\":\"#E5ECF6\",\"angularaxis\":{\"gridcolor\":\"white\",\"linecolor\":\"white\",\"ticks\":\"\"},\"radialaxis\":{\"gridcolor\":\"white\",\"linecolor\":\"white\",\"ticks\":\"\"}},\"ternary\":{\"bgcolor\":\"#E5ECF6\",\"aaxis\":{\"gridcolor\":\"white\",\"linecolor\":\"white\",\"ticks\":\"\"},\"baxis\":{\"gridcolor\":\"white\",\"linecolor\":\"white\",\"ticks\":\"\"},\"caxis\":{\"gridcolor\":\"white\",\"linecolor\":\"white\",\"ticks\":\"\"}},\"coloraxis\":{\"colorbar\":{\"outlinewidth\":0,\"ticks\":\"\"}},\"colorscale\":{\"sequential\":[[0.0,\"#0d0887\"],[0.1111111111111111,\"#46039f\"],[0.2222222222222222,\"#7201a8\"],[0.3333333333333333,\"#9c179e\"],[0.4444444444444444,\"#bd3786\"],[0.5555555555555556,\"#d8576b\"],[0.6666666666666666,\"#ed7953\"],[0.7777777777777778,\"#fb9f3a\"],[0.8888888888888888,\"#fdca26\"],[1.0,\"#f0f921\"]],\"sequentialminus\":[[0.0,\"#0d0887\"],[0.1111111111111111,\"#46039f\"],[0.2222222222222222,\"#7201a8\"],[0.3333333333333333,\"#9c179e\"],[0.4444444444444444,\"#bd3786\"],[0.5555555555555556,\"#d8576b\"],[0.6666666666666666,\"#ed7953\"],[0.7777777777777778,\"#fb9f3a\"],[0.8888888888888888,\"#fdca26\"],[1.0,\"#f0f921\"]],\"diverging\":[[0,\"#8e0152\"],[0.1,\"#c51b7d\"],[0.2,\"#de77ae\"],[0.3,\"#f1b6da\"],[0.4,\"#fde0ef\"],[0.5,\"#f7f7f7\"],[0.6,\"#e6f5d0\"],[0.7,\"#b8e186\"],[0.8,\"#7fbc41\"],[0.9,\"#4d9221\"],[1,\"#276419\"]]},\"xaxis\":{\"gridcolor\":\"white\",\"linecolor\":\"white\",\"ticks\":\"\",\"title\":{\"standoff\":15},\"zerolinecolor\":\"white\",\"automargin\":true,\"zerolinewidth\":2},\"yaxis\":{\"gridcolor\":\"white\",\"linecolor\":\"white\",\"ticks\":\"\",\"title\":{\"standoff\":15},\"zerolinecolor\":\"white\",\"automargin\":true,\"zerolinewidth\":2},\"scene\":{\"xaxis\":{\"backgroundcolor\":\"#E5ECF6\",\"gridcolor\":\"white\",\"linecolor\":\"white\",\"showbackground\":true,\"ticks\":\"\",\"zerolinecolor\":\"white\",\"gridwidth\":2},\"yaxis\":{\"backgroundcolor\":\"#E5ECF6\",\"gridcolor\":\"white\",\"linecolor\":\"white\",\"showbackground\":true,\"ticks\":\"\",\"zerolinecolor\":\"white\",\"gridwidth\":2},\"zaxis\":{\"backgroundcolor\":\"#E5ECF6\",\"gridcolor\":\"white\",\"linecolor\":\"white\",\"showbackground\":true,\"ticks\":\"\",\"zerolinecolor\":\"white\",\"gridwidth\":2}},\"shapedefaults\":{\"line\":{\"color\":\"#2a3f5f\"}},\"annotationdefaults\":{\"arrowcolor\":\"#2a3f5f\",\"arrowhead\":0,\"arrowwidth\":1},\"geo\":{\"bgcolor\":\"white\",\"landcolor\":\"#E5ECF6\",\"subunitcolor\":\"white\",\"showland\":true,\"showlakes\":true,\"lakecolor\":\"white\"},\"title\":{\"x\":0.05},\"mapbox\":{\"style\":\"light\"}}},\"xaxis\":{\"anchor\":\"y\",\"domain\":[0.0,1.0],\"title\":{\"text\":\"Fruit\"}},\"yaxis\":{\"anchor\":\"x\",\"domain\":[0.0,1.0],\"title\":{\"text\":\"Quantity\"}},\"legend\":{\"tracegroupgap\":0},\"title\":{\"text\":\"Fruit Quantity\"},\"barmode\":\"relative\"},                        {\"responsive\": true}                    ).then(function(){\n",
              "                            \n",
              "var gd = document.getElementById('98a5a59a-14c8-41c2-979d-8aa1dc62cc84');\n",
              "var x = new MutationObserver(function (mutations, observer) {{\n",
              "        var display = window.getComputedStyle(gd).display;\n",
              "        if (!display || display === 'none') {{\n",
              "            console.log([gd, 'removed!']);\n",
              "            Plotly.purge(gd);\n",
              "            observer.disconnect();\n",
              "        }}\n",
              "}});\n",
              "\n",
              "// Listen for the removal of the full notebook cells\n",
              "var notebookContainer = gd.closest('#notebook-container');\n",
              "if (notebookContainer) {{\n",
              "    x.observe(notebookContainer, {childList: true});\n",
              "}}\n",
              "\n",
              "// Listen for the clearing of the current output cell\n",
              "var outputEl = gd.closest('.output');\n",
              "if (outputEl) {{\n",
              "    x.observe(outputEl, {childList: true});\n",
              "}}\n",
              "\n",
              "                        })                };                            </script>        </div>\n",
              "</body>\n",
              "</html>"
            ]
          },
          "metadata": {}
        }
      ],
      "source": [
        "import plotly.express as px\n",
        "\n",
        "data = {'Fruit': ['Apple', 'Mango', 'Kiwi'], 'Quantity': [10, 25, 15]}\n",
        "df = pd.DataFrame(data)\n",
        "fig = px.bar(df, x='Fruit', y='Quantity', title='Fruit Quantity')\n",
        "fig.show()\n"
      ]
    },
    {
      "cell_type": "markdown",
      "id": "b603de66-97b5-4a28-96a6-46821474b91a",
      "metadata": {
        "id": "b603de66-97b5-4a28-96a6-46821474b91a"
      },
      "source": [
        "6) Create a DataFrame and add a new column based on an existing column"
      ]
    },
    {
      "cell_type": "code",
      "execution_count": 4,
      "id": "ec62dfed-4a7d-4e55-9454-4bff52d45914",
      "metadata": {
        "colab": {
          "base_uri": "https://localhost:8080/"
        },
        "id": "ec62dfed-4a7d-4e55-9454-4bff52d45914",
        "outputId": "fe952969-a7f4-4525-b0e5-aecf21893193"
      },
      "outputs": [
        {
          "output_type": "stream",
          "name": "stdout",
          "text": [
            "   price  discounted_price\n",
            "0    100              90.0\n",
            "1    200             180.0\n",
            "2    300             270.0\n"
          ]
        }
      ],
      "source": [
        "df = pd.DataFrame({'price': [100, 200, 300]})\n",
        "df['discounted_price'] = df['price'] * 0.9\n",
        "print(df)\n"
      ]
    },
    {
      "cell_type": "markdown",
      "id": "0d41e5cf-e70d-4575-8a19-d7c1d5f459a6",
      "metadata": {
        "id": "0d41e5cf-e70d-4575-8a19-d7c1d5f459a6"
      },
      "source": [
        "7) Write a program to perform element-wise multiplication of two NumPy arrays"
      ]
    },
    {
      "cell_type": "code",
      "execution_count": 11,
      "id": "64ac7695-3dd5-49af-974f-ca74f90dd478",
      "metadata": {
        "colab": {
          "base_uri": "https://localhost:8080/"
        },
        "id": "64ac7695-3dd5-49af-974f-ca74f90dd478",
        "outputId": "6dbc517a-ce46-4153-c94d-176e85127ddf"
      },
      "outputs": [
        {
          "output_type": "stream",
          "name": "stdout",
          "text": [
            "[10 40 90]\n"
          ]
        }
      ],
      "source": [
        "import numpy as np\n",
        "\n",
        "a = np.array([1, 2, 3])\n",
        "b = np.array([10, 20, 30])\n",
        "\n",
        "result = a * b\n",
        "print(result)"
      ]
    },
    {
      "cell_type": "markdown",
      "id": "cdfd3bbb-c913-4c88-8d06-6d05672af5e3",
      "metadata": {
        "id": "cdfd3bbb-c913-4c88-8d06-6d05672af5e3"
      },
      "source": [
        "8) Create a line plot with multiple lines using Matplotlib"
      ]
    },
    {
      "cell_type": "code",
      "execution_count": null,
      "id": "64abde91-151f-4c82-8671-f4860d81292f",
      "metadata": {
        "id": "64abde91-151f-4c82-8671-f4860d81292f",
        "outputId": "1bf61f18-0bda-45ed-b5e7-f1212788eef8"
      },
      "outputs": [
        {
          "data": {
            "image/png": "[encoded data removed]",
            "text/plain": [
              "<Figure size 640x480 with 1 Axes>"
            ]
          },
          "metadata": {},
          "output_type": "display_data"
        }
      ],
      "source": [
        "x = [1, 2, 3, 4]\n",
        "y1 = [10, 20, 25, 30]\n",
        "y2 = [5, 15, 20, 25]\n",
        "\n",
        "plt.plot(x, y1, label='Line 1')\n",
        "plt.plot(x, y2, label='Line 2')\n",
        "plt.legend()\n",
        "plt.title(\"Multiple Lines\")\n",
        "plt.show()\n"
      ]
    },
    {
      "cell_type": "markdown",
      "id": "1c904af0-5e59-41ef-aa9a-da9a81253d72",
      "metadata": {
        "id": "1c904af0-5e59-41ef-aa9a-da9a81253d72"
      },
      "source": [
        "9) Generate a Pandas DataFrame and filter rows where a column value is greater than a threshold"
      ]
    },
    {
      "cell_type": "code",
      "execution_count": null,
      "id": "7b7eb09f-e336-48f5-b6c3-4dbd6669e26e",
      "metadata": {
        "id": "7b7eb09f-e336-48f5-b6c3-4dbd6669e26e",
        "outputId": "5cb4e452-d7d2-4899-8d36-2f2ed846049b"
      },
      "outputs": [
        {
          "name": "stdout",
          "output_type": "stream",
          "text": [
            "   score\n",
            "1     78\n",
            "2     90\n"
          ]
        }
      ],
      "source": [
        "df = pd.DataFrame({'score': [45, 78, 90, 60]})\n",
        "filtered = df[df['score'] > 70]\n",
        "print(filtered)\n"
      ]
    },
    {
      "cell_type": "markdown",
      "id": "2d785638-119f-46b7-bec6-cf160b4cd211",
      "metadata": {
        "id": "2d785638-119f-46b7-bec6-cf160b4cd211"
      },
      "source": [
        "10) Create a histogram using Seaborn to visualize a distribution"
      ]
    },
    {
      "cell_type": "code",
      "execution_count": null,
      "id": "7a1fb4de-80d1-46a8-bd49-e6a6e80a88c1",
      "metadata": {
        "id": "7a1fb4de-80d1-46a8-bd49-e6a6e80a88c1",
        "outputId": "97f635fb-d692-4a63-a19a-4138fedac3fa"
      },
      "outputs": [
        {
          "data": {
            "text/plain": [
              "<Axes: ylabel='Count'>"
            ]
          },
          "execution_count": 18,
          "metadata": {},
          "output_type": "execute_result"
        },
        {
          "data": {
            "image/png": "[encoded data removed]",
            "text/plain": [
              "<Figure size 640x480 with 1 Axes>"
            ]
          },
          "metadata": {},
          "output_type": "display_data"
        }
      ],
      "source": [
        "import seaborn as sns\n",
        "\n",
        "data = [10, 20, 20, 30, 40, 40, 50]\n",
        "sns.histplot(data, kde=True)\n"
      ]
    },
    {
      "cell_type": "markdown",
      "id": "6e661308-d7a2-4800-bb5a-0b048480c516",
      "metadata": {
        "id": "6e661308-d7a2-4800-bb5a-0b048480c516"
      },
      "source": [
        "11) Perform matrix multiplication using NumPy"
      ]
    },
    {
      "cell_type": "code",
      "execution_count": null,
      "id": "ffec1c80-4c28-404e-86f2-641ef811881b",
      "metadata": {
        "id": "ffec1c80-4c28-404e-86f2-641ef811881b",
        "outputId": "a12eb530-78da-463c-841d-ae92cb3e9a95"
      },
      "outputs": [
        {
          "name": "stdout",
          "output_type": "stream",
          "text": [
            "[[19 22]\n",
            " [43 50]]\n"
          ]
        }
      ],
      "source": [
        "a = np.array([[1, 2], [3, 4]])\n",
        "b = np.array([[5, 6], [7, 8]])\n",
        "result = np.dot(a, b)\n",
        "print(result)\n"
      ]
    },
    {
      "cell_type": "markdown",
      "id": "69097e0b-fb27-4b00-a59b-84bd66e34198",
      "metadata": {
        "id": "69097e0b-fb27-4b00-a59b-84bd66e34198"
      },
      "source": [
        "12) Use Pandas to load a CSV file and display its first 5 rows"
      ]
    },
    {
      "cell_type": "code",
      "execution_count": null,
      "id": "e72d37b0-689d-4e42-9177-0a3a14b345e9",
      "metadata": {
        "id": "e72d37b0-689d-4e42-9177-0a3a14b345e9",
        "outputId": "0ad6bf7c-7c16-4341-dfd0-64e2d012ed0a"
      },
      "outputs": [
        {
          "name": "stdout",
          "output_type": "stream",
          "text": [
            "Sample DataFrame:\n",
            "       Name  Age\n",
            "0    Alice   25\n",
            "1      Bob   30\n",
            "2  Charlie   35\n"
          ]
        }
      ],
      "source": [
        "import pandas as pd\n",
        "\n",
        "# Example using dummy data (if no CSV file available)\n",
        "df = pd.DataFrame({\n",
        "    'Name': ['Alice', 'Bob', 'Charlie'],\n",
        "    'Age': [25, 30, 35]\n",
        "})\n",
        "print(\"Sample DataFrame:\\n\", df.head())\n",
        "\n",
        "# If you have a CSV file, use:\n",
        "# df = pd.read_csv(\"your_file.csv\")\n",
        "# print(df.head())\n"
      ]
    },
    {
      "cell_type": "markdown",
      "id": "dd8e1aa5-f07a-42f5-aabb-ec9667c9f3ca",
      "metadata": {
        "id": "dd8e1aa5-f07a-42f5-aabb-ec9667c9f3ca"
      },
      "source": [
        "13) Create a 3D scatter plot using Plotly."
      ]
    },
    {
      "cell_type": "code",
      "execution_count": 2,
      "id": "41b9a99a-bd6d-4833-abf4-9347042c7e1b",
      "metadata": {
        "colab": {
          "base_uri": "https://localhost:8080/",
          "height": 542
        },
        "id": "41b9a99a-bd6d-4833-abf4-9347042c7e1b",
        "outputId": "42b3f466-9877-4f3a-8b92-6d363c8e986d"
      },
      "outputs": [
        {
          "output_type": "display_data",
          "data": {
            "text/html": [
              "<html>\n",
              "<head><meta charset=\"utf-8\" /></head>\n",
              "<body>\n",
              "    <div>            <script src=\"https://cdnjs.cloudflare.com/ajax/libs/mathjax/2.7.5/MathJax.js?config=TeX-AMS-MML_SVG\"></script><script type=\"text/javascript\">if (window.MathJax && window.MathJax.Hub && window.MathJax.Hub.Config) {window.MathJax.Hub.Config({SVG: {font: \"STIX-Web\"}});}</script>                <script type=\"text/javascript\">window.PlotlyConfig = {MathJaxConfig: 'local'};</script>\n",
              "        <script charset=\"utf-8\" src=\"https://cdn.plot.ly/plotly-2.35.2.min.js\"></script>                <div id=\"6235f9f0-c5eb-45ab-8560-595af8d60d22\" class=\"plotly-graph-div\" style=\"height:525px; width:100%;\"></div>            <script type=\"text/javascript\">                                    window.PLOTLYENV=window.PLOTLYENV || {};                                    if (document.getElementById(\"6235f9f0-c5eb-45ab-8560-595af8d60d22\")) {                    Plotly.newPlot(                        \"6235f9f0-c5eb-45ab-8560-595af8d60d22\",                        [{\"hovertemplate\":\"x=%{x}\\u003cbr\\u003ey=%{y}\\u003cbr\\u003ez=%{z}\\u003cextra\\u003e\\u003c\\u002fextra\\u003e\",\"legendgroup\":\"\",\"marker\":{\"color\":\"#636efa\",\"symbol\":\"circle\"},\"mode\":\"markers\",\"name\":\"\",\"scene\":\"scene\",\"showlegend\":false,\"x\":[1,2,3],\"y\":[4,5,6],\"z\":[7,8,9],\"type\":\"scatter3d\"}],                        {\"template\":{\"data\":{\"histogram2dcontour\":[{\"type\":\"histogram2dcontour\",\"colorbar\":{\"outlinewidth\":0,\"ticks\":\"\"},\"colorscale\":[[0.0,\"#0d0887\"],[0.1111111111111111,\"#46039f\"],[0.2222222222222222,\"#7201a8\"],[0.3333333333333333,\"#9c179e\"],[0.4444444444444444,\"#bd3786\"],[0.5555555555555556,\"#d8576b\"],[0.6666666666666666,\"#ed7953\"],[0.7777777777777778,\"#fb9f3a\"],[0.8888888888888888,\"#fdca26\"],[1.0,\"#f0f921\"]]}],\"choropleth\":[{\"type\":\"choropleth\",\"colorbar\":{\"outlinewidth\":0,\"ticks\":\"\"}}],\"histogram2d\":[{\"type\":\"histogram2d\",\"colorbar\":{\"outlinewidth\":0,\"ticks\":\"\"},\"colorscale\":[[0.0,\"#0d0887\"],[0.1111111111111111,\"#46039f\"],[0.2222222222222222,\"#7201a8\"],[0.3333333333333333,\"#9c179e\"],[0.4444444444444444,\"#bd3786\"],[0.5555555555555556,\"#d8576b\"],[0.6666666666666666,\"#ed7953\"],[0.7777777777777778,\"#fb9f3a\"],[0.8888888888888888,\"#fdca26\"],[1.0,\"#f0f921\"]]}],\"heatmap\":[{\"type\":\"heatmap\",\"colorbar\":{\"outlinewidth\":0,\"ticks\":\"\"},\"colorscale\":[[0.0,\"#0d0887\"],[0.1111111111111111,\"#46039f\"],[0.2222222222222222,\"#7201a8\"],[0.3333333333333333,\"#9c179e\"],[0.4444444444444444,\"#bd3786\"],[0.5555555555555556,\"#d8576b\"],[0.6666666666666666,\"#ed7953\"],[0.7777777777777778,\"#fb9f3a\"],[0.8888888888888888,\"#fdca26\"],[1.0,\"#f0f921\"]]}],\"heatmapgl\":[{\"type\":\"heatmapgl\",\"colorbar\":{\"outlinewidth\":0,\"ticks\":\"\"},\"colorscale\":[[0.0,\"#0d0887\"],[0.1111111111111111,\"#46039f\"],[0.2222222222222222,\"#7201a8\"],[0.3333333333333333,\"#9c179e\"],[0.4444444444444444,\"#bd3786\"],[0.5555555555555556,\"#d8576b\"],[0.6666666666666666,\"#ed7953\"],[0.7777777777777778,\"#fb9f3a\"],[0.8888888888888888,\"#fdca26\"],[1.0,\"#f0f921\"]]}],\"contourcarpet\":[{\"type\":\"contourcarpet\",\"colorbar\":{\"outlinewidth\":0,\"ticks\":\"\"}}],\"contour\":[{\"type\":\"contour\",\"colorbar\":{\"outlinewidth\":0,\"ticks\":\"\"},\"colorscale\":[[0.0,\"#0d0887\"],[0.1111111111111111,\"#46039f\"],[0.2222222222222222,\"#7201a8\"],[0.3333333333333333,\"#9c179e\"],[0.4444444444444444,\"#bd3786\"],[0.5555555555555556,\"#d8576b\"],[0.6666666666666666,\"#ed7953\"],[0.7777777777777778,\"#fb9f3a\"],[0.8888888888888888,\"#fdca26\"],[1.0,\"#f0f921\"]]}],\"surface\":[{\"type\":\"surface\",\"colorbar\":{\"outlinewidth\":0,\"ticks\":\"\"},\"colorscale\":[[0.0,\"#0d0887\"],[0.1111111111111111,\"#46039f\"],[0.2222222222222222,\"#7201a8\"],[0.3333333333333333,\"#9c179e\"],[0.4444444444444444,\"#bd3786\"],[0.5555555555555556,\"#d8576b\"],[0.6666666666666666,\"#ed7953\"],[0.7777777777777778,\"#fb9f3a\"],[0.8888888888888888,\"#fdca26\"],[1.0,\"#f0f921\"]]}],\"mesh3d\":[{\"type\":\"mesh3d\",\"colorbar\":{\"outlinewidth\":0,\"ticks\":\"\"}}],\"scatter\":[{\"fillpattern\":{\"fillmode\":\"overlay\",\"size\":10,\"solidity\":0.2},\"type\":\"scatter\"}],\"parcoords\":[{\"type\":\"parcoords\",\"line\":{\"colorbar\":{\"outlinewidth\":0,\"ticks\":\"\"}}}],\"scatterpolargl\":[{\"type\":\"scatterpolargl\",\"marker\":{\"colorbar\":{\"outlinewidth\":0,\"ticks\":\"\"}}}],\"bar\":[{\"error_x\":{\"color\":\"#2a3f5f\"},\"error_y\":{\"color\":\"#2a3f5f\"},\"marker\":{\"line\":{\"color\":\"#E5ECF6\",\"width\":0.5},\"pattern\":{\"fillmode\":\"overlay\",\"size\":10,\"solidity\":0.2}},\"type\":\"bar\"}],\"scattergeo\":[{\"type\":\"scattergeo\",\"marker\":{\"colorbar\":{\"outlinewidth\":0,\"ticks\":\"\"}}}],\"scatterpolar\":[{\"type\":\"scatterpolar\",\"marker\":{\"colorbar\":{\"outlinewidth\":0,\"ticks\":\"\"}}}],\"histogram\":[{\"marker\":{\"pattern\":{\"fillmode\":\"overlay\",\"size\":10,\"solidity\":0.2}},\"type\":\"histogram\"}],\"scattergl\":[{\"type\":\"scattergl\",\"marker\":{\"colorbar\":{\"outlinewidth\":0,\"ticks\":\"\"}}}],\"scatter3d\":[{\"type\":\"scatter3d\",\"line\":{\"colorbar\":{\"outlinewidth\":0,\"ticks\":\"\"}},\"marker\":{\"colorbar\":{\"outlinewidth\":0,\"ticks\":\"\"}}}],\"scattermapbox\":[{\"type\":\"scattermapbox\",\"marker\":{\"colorbar\":{\"outlinewidth\":0,\"ticks\":\"\"}}}],\"scatterternary\":[{\"type\":\"scatterternary\",\"marker\":{\"colorbar\":{\"outlinewidth\":0,\"ticks\":\"\"}}}],\"scattercarpet\":[{\"type\":\"scattercarpet\",\"marker\":{\"colorbar\":{\"outlinewidth\":0,\"ticks\":\"\"}}}],\"carpet\":[{\"aaxis\":{\"endlinecolor\":\"#2a3f5f\",\"gridcolor\":\"white\",\"linecolor\":\"white\",\"minorgridcolor\":\"white\",\"startlinecolor\":\"#2a3f5f\"},\"baxis\":{\"endlinecolor\":\"#2a3f5f\",\"gridcolor\":\"white\",\"linecolor\":\"white\",\"minorgridcolor\":\"white\",\"startlinecolor\":\"#2a3f5f\"},\"type\":\"carpet\"}],\"table\":[{\"cells\":{\"fill\":{\"color\":\"#EBF0F8\"},\"line\":{\"color\":\"white\"}},\"header\":{\"fill\":{\"color\":\"#C8D4E3\"},\"line\":{\"color\":\"white\"}},\"type\":\"table\"}],\"barpolar\":[{\"marker\":{\"line\":{\"color\":\"#E5ECF6\",\"width\":0.5},\"pattern\":{\"fillmode\":\"overlay\",\"size\":10,\"solidity\":0.2}},\"type\":\"barpolar\"}],\"pie\":[{\"automargin\":true,\"type\":\"pie\"}]},\"layout\":{\"autotypenumbers\":\"strict\",\"colorway\":[\"#636efa\",\"#EF553B\",\"#00cc96\",\"#ab63fa\",\"#FFA15A\",\"#19d3f3\",\"#FF6692\",\"#B6E880\",\"#FF97FF\",\"#FECB52\"],\"font\":{\"color\":\"#2a3f5f\"},\"hovermode\":\"closest\",\"hoverlabel\":{\"align\":\"left\"},\"paper_bgcolor\":\"white\",\"plot_bgcolor\":\"#E5ECF6\",\"polar\":{\"bgcolor\":\"#E5ECF6\",\"angularaxis\":{\"gridcolor\":\"white\",\"linecolor\":\"white\",\"ticks\":\"\"},\"radialaxis\":{\"gridcolor\":\"white\",\"linecolor\":\"white\",\"ticks\":\"\"}},\"ternary\":{\"bgcolor\":\"#E5ECF6\",\"aaxis\":{\"gridcolor\":\"white\",\"linecolor\":\"white\",\"ticks\":\"\"},\"baxis\":{\"gridcolor\":\"white\",\"linecolor\":\"white\",\"ticks\":\"\"},\"caxis\":{\"gridcolor\":\"white\",\"linecolor\":\"white\",\"ticks\":\"\"}},\"coloraxis\":{\"colorbar\":{\"outlinewidth\":0,\"ticks\":\"\"}},\"colorscale\":{\"sequential\":[[0.0,\"#0d0887\"],[0.1111111111111111,\"#46039f\"],[0.2222222222222222,\"#7201a8\"],[0.3333333333333333,\"#9c179e\"],[0.4444444444444444,\"#bd3786\"],[0.5555555555555556,\"#d8576b\"],[0.6666666666666666,\"#ed7953\"],[0.7777777777777778,\"#fb9f3a\"],[0.8888888888888888,\"#fdca26\"],[1.0,\"#f0f921\"]],\"sequentialminus\":[[0.0,\"#0d0887\"],[0.1111111111111111,\"#46039f\"],[0.2222222222222222,\"#7201a8\"],[0.3333333333333333,\"#9c179e\"],[0.4444444444444444,\"#bd3786\"],[0.5555555555555556,\"#d8576b\"],[0.6666666666666666,\"#ed7953\"],[0.7777777777777778,\"#fb9f3a\"],[0.8888888888888888,\"#fdca26\"],[1.0,\"#f0f921\"]],\"diverging\":[[0,\"#8e0152\"],[0.1,\"#c51b7d\"],[0.2,\"#de77ae\"],[0.3,\"#f1b6da\"],[0.4,\"#fde0ef\"],[0.5,\"#f7f7f7\"],[0.6,\"#e6f5d0\"],[0.7,\"#b8e186\"],[0.8,\"#7fbc41\"],[0.9,\"#4d9221\"],[1,\"#276419\"]]},\"xaxis\":{\"gridcolor\":\"white\",\"linecolor\":\"white\",\"ticks\":\"\",\"title\":{\"standoff\":15},\"zerolinecolor\":\"white\",\"automargin\":true,\"zerolinewidth\":2},\"yaxis\":{\"gridcolor\":\"white\",\"linecolor\":\"white\",\"ticks\":\"\",\"title\":{\"standoff\":15},\"zerolinecolor\":\"white\",\"automargin\":true,\"zerolinewidth\":2},\"scene\":{\"xaxis\":{\"backgroundcolor\":\"#E5ECF6\",\"gridcolor\":\"white\",\"linecolor\":\"white\",\"showbackground\":true,\"ticks\":\"\",\"zerolinecolor\":\"white\",\"gridwidth\":2},\"yaxis\":{\"backgroundcolor\":\"#E5ECF6\",\"gridcolor\":\"white\",\"linecolor\":\"white\",\"showbackground\":true,\"ticks\":\"\",\"zerolinecolor\":\"white\",\"gridwidth\":2},\"zaxis\":{\"backgroundcolor\":\"#E5ECF6\",\"gridcolor\":\"white\",\"linecolor\":\"white\",\"showbackground\":true,\"ticks\":\"\",\"zerolinecolor\":\"white\",\"gridwidth\":2}},\"shapedefaults\":{\"line\":{\"color\":\"#2a3f5f\"}},\"annotationdefaults\":{\"arrowcolor\":\"#2a3f5f\",\"arrowhead\":0,\"arrowwidth\":1},\"geo\":{\"bgcolor\":\"white\",\"landcolor\":\"#E5ECF6\",\"subunitcolor\":\"white\",\"showland\":true,\"showlakes\":true,\"lakecolor\":\"white\"},\"title\":{\"x\":0.05},\"mapbox\":{\"style\":\"light\"}}},\"scene\":{\"domain\":{\"x\":[0.0,1.0],\"y\":[0.0,1.0]},\"xaxis\":{\"title\":{\"text\":\"x\"}},\"yaxis\":{\"title\":{\"text\":\"y\"}},\"zaxis\":{\"title\":{\"text\":\"z\"}}},\"legend\":{\"tracegroupgap\":0},\"title\":{\"text\":\"3D Scatter\"}},                        {\"responsive\": true}                    ).then(function(){\n",
              "                            \n",
              "var gd = document.getElementById('6235f9f0-c5eb-45ab-8560-595af8d60d22');\n",
              "var x = new MutationObserver(function (mutations, observer) {{\n",
              "        var display = window.getComputedStyle(gd).display;\n",
              "        if (!display || display === 'none') {{\n",
              "            console.log([gd, 'removed!']);\n",
              "            Plotly.purge(gd);\n",
              "            observer.disconnect();\n",
              "        }}\n",
              "}});\n",
              "\n",
              "// Listen for the removal of the full notebook cells\n",
              "var notebookContainer = gd.closest('#notebook-container');\n",
              "if (notebookContainer) {{\n",
              "    x.observe(notebookContainer, {childList: true});\n",
              "}}\n",
              "\n",
              "// Listen for the clearing of the current output cell\n",
              "var outputEl = gd.closest('.output');\n",
              "if (outputEl) {{\n",
              "    x.observe(outputEl, {childList: true});\n",
              "}}\n",
              "\n",
              "                        })                };                            </script>        </div>\n",
              "</body>\n",
              "</html>"
            ]
          },
          "metadata": {}
        }
      ],
      "source": [
        "import plotly.express as px\n",
        "import pandas as pd\n",
        "\n",
        "df = pd.DataFrame({\n",
        "    'x': [1, 2, 3],\n",
        "    'y': [4, 5, 6],\n",
        "    'z': [7, 8, 9]\n",
        "})\n",
        "\n",
        "fig = px.scatter_3d(df, x='x', y='y', z='z', title='3D Scatter')\n",
        "fig.show()\n"
      ]
    }
  ],
  "metadata": {
    "kernelspec": {
      "display_name": "Python 3 (ipykernel)",
      "language": "python",
      "name": "python3"
    },
    "language_info": {
      "codemirror_mode": {
        "name": "ipython",
        "version": 3
      },
      "file_extension": ".py",
      "mimetype": "text/x-python",
      "name": "python",
      "nbconvert_exporter": "python",
      "pygments_lexer": "ipython3",
      "version": "3.12.7"
    },
    "colab": {
      "provenance": []
    }
  },
  "nbformat": 4,
  "nbformat_minor": 5
}