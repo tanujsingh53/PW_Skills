{
 "cells": [
  {
   "cell_type": "markdown",
   "id": "d88b36c8-fbdf-49c1-bbc7-e31c85a7f70d",
   "metadata": {},
   "source": [
    "# Restful API & Flask"
   ]
  },
  {
   "cell_type": "markdown",
   "id": "6458250d-ed41-47c2-933e-5d767087f8ee",
   "metadata": {},
   "source": [
    "1. What is a RESTful API?\n",
    "\n",
    "Answer:- A RESTful API (Representational State Transfer) is an API that follows the principles of REST. It allows communication between client and server using standard HTTP methods like GET, POST, PUT, DELETE.\n",
    "\n"
   ]
  },
  {
   "cell_type": "markdown",
   "id": "18635b4f-7018-4c68-af79-93a09fcdb33b",
   "metadata": {},
   "source": [
    "2. Explain the concept of API specification\n",
    "\n",
    "Answer:- An API specification is a detailed document that defines:\n",
    "\n",
    "Available endpoints and their URLs\n",
    "\n",
    "HTTP methods (GET, POST, etc.)\n",
    "\n",
    "Required/request parameters\n",
    "\n",
    "Request/response formats\n",
    "\n",
    "Status codes\n",
    "Example: OpenAPI (Swagger) is a common API specification format"
   ]
  },
  {
   "cell_type": "markdown",
   "id": "0e911464-8ffe-4e45-ade8-ea18570105fb",
   "metadata": {},
   "source": [
    "3. What is Flask, and why is it popular for building APIs?\n",
    "\n",
    "Answer:- Flask is a lightweight Python web framework. It's popular for building APIs because:\n",
    "\n",
    "It's simple and easy to use.\n",
    "\n",
    "It has extensions like Flask-RESTful and Flask-SQLAlchemy.\n",
    "\n",
    "It supports quick development of web and RESTful apps."
   ]
  },
  {
   "cell_type": "markdown",
   "id": "9e098018-3b85-4978-b5b9-5a48083b099d",
   "metadata": {},
   "source": [
    "4. What is routing in Flask?\n",
    "\n",
    "Answer:- Routing is the mechanism that maps URLs to functions in Flask.\n",
    "Example:\n",
    "\n",
    "@app.route('/home')\n",
    "def home():\n",
    "    return \"Welcome Home\""
   ]
  },
  {
   "cell_type": "markdown",
   "id": "88bda06f-3662-413e-85dd-b14a3dd4ee09",
   "metadata": {},
   "source": [
    "5. How do you create a simple Flask application?\n",
    "\n",
    "Answer:- from flask import Flask\n",
    "app = Flask(__name__)\n",
    "\n",
    "@app.route('/')\n",
    "def hello():\n",
    "    return \"Hello, World!\"\n",
    "\n",
    "if __name__ == '__main__':\n",
    "    app.run()"
   ]
  },
  {
   "cell_type": "markdown",
   "id": "95bf31ae-4602-420d-8ac1-ebfac5401e65",
   "metadata": {},
   "source": [
    "6. What are HTTP methods used in RESTful APIs?\n",
    "\n",
    "Answer:- GET: Retrieve data\n",
    "\n",
    "POST: Create data\n",
    "\n",
    "PUT: Update data\n",
    "\n",
    "DELETE: Delete data\n",
    "\n",
    "PATCH: Partial update\n",
    "\n"
   ]
  },
  {
   "cell_type": "markdown",
   "id": "070d55c9-0aba-4b3f-a431-1a5c4eca23e3",
   "metadata": {},
   "source": [
    "7. What is the purpose of the @app.route() decorator in Flask?\n",
    "\n",
    "Answer:- It binds a URL path to a Python function, making it accessible via a browser or HTTP request."
   ]
  },
  {
   "cell_type": "markdown",
   "id": "5feaceac-e94a-4410-be7b-da3925b97e8e",
   "metadata": {},
   "source": [
    "8. What is the difference between GET and POST HTTP methods?\n",
    "\n",
    "Answer:- GET: Sends data through URL, used for fetching data.\n",
    "\n",
    "POST: Sends data in the body, used for creating or submitting data securely.\n",
    "\n"
   ]
  },
  {
   "cell_type": "markdown",
   "id": "26af8805-f5cc-43ae-8038-789b567a80c2",
   "metadata": {},
   "source": [
    "9. How do you handle errors in Flask APIs?\n",
    "\n",
    "Answer:- Using error handlers:\n",
    "\n",
    "@app.errorhandler(404)\n",
    "def not_found(e):\n",
    "    return {\"error\": \"Not Found\"}, 404"
   ]
  },
  {
   "cell_type": "markdown",
   "id": "a069eaad-890a-4a77-9984-da9ae8389fd1",
   "metadata": {},
   "source": [
    "10. How do you connect Flask to a SQL database?\n",
    "\n",
    "Answer:- Use Flask-SQLAlchemy:\n",
    "\n",
    "from flask_sqlalchemy import SQLAlchemy\n",
    "app.config['SQLALCHEMY_DATABASE_URI'] = 'sqlite:///data.db'\n",
    "db = SQLAlchemy(app)"
   ]
  },
  {
   "cell_type": "markdown",
   "id": "b8a1eef5-fb83-4070-b2da-9c915f294e2a",
   "metadata": {},
   "source": [
    "11. What is the role of Flask-SQLAlchemy?\n",
    "\n",
    "Answer:- It provides ORM (Object Relational Mapping) for Flask, allowing you to interact with the database using Python classes instead of SQL queries.\n",
    "\n"
   ]
  },
  {
   "cell_type": "markdown",
   "id": "32d70652-7c84-4d62-9247-213777bb6271",
   "metadata": {},
   "source": [
    "12. What are Flask blueprints, and how are they useful?\n",
    "\n",
    "Answer:- Blueprints let you organize your app into components or modules. Useful for:\n",
    "Large projects\n",
    "Reusability\n",
    "Cleaner structure"
   ]
  },
  {
   "cell_type": "markdown",
   "id": "afedb5a7-36b9-4ca4-8328-1ac7c9106f67",
   "metadata": {},
   "source": [
    "13. What is the purpose of Flask's request object?\n",
    "\n",
    "Answer:- It holds all incoming HTTP request data like:\n",
    "\n",
    "Form data\n",
    "\n",
    "JSON data\n",
    "\n",
    "Query parameters\n",
    "\n",
    "Headers\n",
    "Example: request.json, request.args, request.form"
   ]
  },
  {
   "cell_type": "markdown",
   "id": "8184ae37-1093-4f76-937b-a81f5f2215ba",
   "metadata": {},
   "source": [
    "14. How do you create a RESTful API endpoint using Flask?\n",
    "\n",
    "Answer:- @app.route('/user/<int:id>', methods=['GET'])\n",
    "def get_user(id):\n",
    "    return {\"user_id\": id}"
   ]
  },
  {
   "cell_type": "markdown",
   "id": "54b018fa-31ef-4973-a868-90d1c295e5e5",
   "metadata": {},
   "source": [
    "15. What is the purpose of Flask's jsonify() function?\n",
    "\n",
    "Answer:- It converts Python dictionaries into JSON responses automatically with correct headers.\n",
    "\n",
    "from flask import jsonify\n",
    "return jsonify({\"name\": \"Harsh\"})\n"
   ]
  },
  {
   "cell_type": "markdown",
   "id": "5f0a389f-3e6b-4547-8632-b4b2fe5fc938",
   "metadata": {},
   "source": [
    "16. Explain Flask’s url_for() function\n",
    "\n",
    "Answer:- It generates the URL for a given function name. Useful for avoiding hardcoding routes.\n",
    "\n",
    "url_for('home')  # returns '/'"
   ]
  },
  {
   "cell_type": "markdown",
   "id": "bd680868-6d34-4ee0-8bc4-5bb1c5697b97",
   "metadata": {},
   "source": [
    "17. How does Flask handle static files (CSS, JavaScript, etc.)?\n",
    "\n",
    "Answer:- Place them in a folder named static/, and access them like:\n",
    "\n",
    "<link rel=\"stylesheet\" href=\"{{ url_for('static', filename='style.css') }}\">"
   ]
  },
  {
   "cell_type": "markdown",
   "id": "ccd937c1-c698-4100-bcec-b6fa24200fde",
   "metadata": {},
   "source": [
    "18. What is an API specification, and how does it help in building a Flask API?\n",
    "\n",
    "Answer:- (Repeat of Q2, but here’s more detail)\n",
    "It helps by providing:\n",
    "\n",
    "Clear communication between frontend/backend\n",
    "\n",
    "Documentation\n",
    "\n",
    "Automated code generation or validation"
   ]
  },
  {
   "cell_type": "markdown",
   "id": "697d1836-696a-4f09-b2cb-3056dd10c462",
   "metadata": {},
   "source": [
    "19. What are HTTP status codes, and why are they important in a Flask API?\n",
    "\n",
    "Answer:- Status codes tell the result of an HTTP request:\n",
    "\n",
    "200 OK (Success)\n",
    "\n",
    "201 Created\n",
    "\n",
    "400 Bad Request\n",
    "\n",
    "404 Not Found\n",
    "\n",
    "500 Internal Server Error\n",
    "They help clients understand what happened."
   ]
  },
  {
   "cell_type": "markdown",
   "id": "4ddf5620-cc7c-441d-b65d-337f28bbd1a9",
   "metadata": {},
   "source": [
    "20. How do you handle POST requests in Flask?\n",
    "\n",
    "Answer:- from flask import request\n",
    "\n",
    "@app.route('/submit', methods=['POST'])\n",
    "def submit():\n",
    "    data = request.json  # or request.form for form data\n",
    "    return jsonify(data)\n"
   ]
  },
  {
   "cell_type": "markdown",
   "id": "3bae246c-c092-41aa-8206-1fd5bfa2c0cb",
   "metadata": {},
   "source": [
    "21. How would you secure a Flask API?\n",
    "\n",
    "Answer:- Use HTTPS\n",
    "\n",
    "Implement Authentication & Authorization (e.g., JWT)\n",
    "\n",
    "Validate all inputs\n",
    "\n",
    "Use Flask-Limiter to prevent abuse (rate limiting)\n",
    "\n",
    "Hide sensitive data"
   ]
  },
  {
   "cell_type": "markdown",
   "id": "63691917-2645-4e7e-8b1e-912c87f2027b",
   "metadata": {},
   "source": [
    "22. What is the significance of the Flask-RESTful extension?\n",
    "\n",
    "Answer:- It simplifies the process of creating RESTful APIs:\n",
    "\n",
    "Clean structure\n",
    "\n",
    "Resource-based routing\n",
    "\n",
    "Built-in error handling"
   ]
  },
  {
   "cell_type": "markdown",
   "id": "7a086e3b-790f-4f55-8f2c-d8ca6664356f",
   "metadata": {},
   "source": [
    "23. What is the role of Flask’s session object?\n",
    "\n",
    "Answer:- It stores user-specific data across requests (like login state).\n",
    "\n",
    "session['user'] = 'Harsh'"
   ]
  },
  {
   "cell_type": "markdown",
   "id": "0802f71b-9c4f-425b-987c-3cd2d95cdd1f",
   "metadata": {},
   "source": [
    "# pratical"
   ]
  },
  {
   "cell_type": "markdown",
   "id": "03d559de-25b5-4c3f-8b76-e83231879d9a",
   "metadata": {},
   "source": [
    "1. How do you create a basic Flask application?\n"
   ]
  },
  {
   "cell_type": "code",
   "execution_count": 78,
   "id": "a567d05d-9f24-4828-8b49-f05634f706f8",
   "metadata": {},
   "outputs": [
    {
     "name": "stdout",
     "output_type": "stream",
     "text": [
      " * Serving Flask app '__main__'\n",
      " * Debug mode: on\n"
     ]
    },
    {
     "name": "stderr",
     "output_type": "stream",
     "text": [
      "WARNING: This is a development server. Do not use it in a production deployment. Use a production WSGI server instead.\n",
      " * Running on http://127.0.0.1:5000\n",
      "Press CTRL+C to quit\n",
      " * Restarting with watchdog (windowsapi)\n"
     ]
    },
    {
     "ename": "SystemExit",
     "evalue": "1",
     "output_type": "error",
     "traceback": [
      "An exception has occurred, use %tb to see the full traceback.\n",
      "\u001b[1;31mSystemExit\u001b[0m\u001b[1;31m:\u001b[0m 1\n"
     ]
    }
   ],
   "source": [
    "from flask import Flask\n",
    "\n",
    "app = Flask(__name__)\n",
    "\n",
    "@app.route('/')\n",
    "def home():\n",
    "    return \"Hello, this is my first Flask app.\"\n",
    "\n",
    "if __name__ == '__main__':\n",
    "    app.run(debug=True)\n",
    "\n"
   ]
  },
  {
   "cell_type": "markdown",
   "id": "52e9d6ba-b7e2-43fc-adc7-4b6d22eaeeff",
   "metadata": {},
   "source": [
    "2. How do you serve static files like images or CSS in Flask?\n",
    "\n",
    "Answer:- Place files inside a folder named static/.\n",
    "\n",
    "Access them in HTML using:\n",
    "\n",
    "<link rel=\"stylesheet\" href=\"{{ url_for('static', filename='style.css') }}\">\n",
    "<img src=\"{{ url_for('static', filename='images/logo.png') }}\">\n"
   ]
  },
  {
   "cell_type": "markdown",
   "id": "14a4b311-ed18-43a3-80fe-cc88071e69a6",
   "metadata": {},
   "source": [
    "3. How do you define different routes with different HTTP methods in Flask?"
   ]
  },
  {
   "cell_type": "code",
   "execution_count": null,
   "id": "cd127545-df3d-443b-baf4-3f02b4d527f0",
   "metadata": {},
   "outputs": [],
   "source": [
    "from flask import Flask, request\n",
    "\n",
    "app = Flask(__name__)\n",
    "\n",
    "@app.route('/submit', methods=['GET', 'POST'])\n",
    "def submit():\n",
    "    if request.method == 'POST':\n",
    "        return \"This is a POST request\"\n",
    "    else:\n",
    "        return \"This is a GET request\"\n",
    "\n",
    "if __name__ == '__main__':\n",
    "    app.run(debug=True)\n"
   ]
  },
  {
   "cell_type": "markdown",
   "id": "8494fb8d-c75d-4826-ab17-465262779cd4",
   "metadata": {},
   "source": [
    "4. How do you render HTML templates in Flask?"
   ]
  },
  {
   "cell_type": "code",
   "execution_count": null,
   "id": "4e9a4744-8dee-4cd9-a99a-d742e52311a2",
   "metadata": {},
   "outputs": [],
   "source": [
    "from flask import Flask, render_template_string\n",
    "\n",
    "app = Flask(__name__)\n",
    "\n",
    "@app.route('/template')\n",
    "def template():\n",
    "    html_code = '''\n",
    "    <html>\n",
    "      <head><title>Flask Page</title></head>\n",
    "      <body>\n",
    "        <h1>This is rendered using HTML template</h1>\n",
    "      </body>\n",
    "    </html>\n",
    "    '''\n",
    "    return render_template_string(html_code)\n",
    "\n",
    "if __name__ == '__main__':\n",
    "    app.run(debug=True)\n"
   ]
  },
  {
   "cell_type": "markdown",
   "id": "a8b5cc9a-6857-4df0-930f-7a769e051175",
   "metadata": {},
   "source": [
    "5. How can you generate URLs for routes in Flask using url_for()?"
   ]
  },
  {
   "cell_type": "code",
   "execution_count": null,
   "id": "7e717032-0ab1-434f-967f-16dc3aecfa95",
   "metadata": {},
   "outputs": [],
   "source": [
    "from flask import Flask, url_for\n",
    "\n",
    "app = Flask(__name__)\n",
    "\n",
    "@app.route('/')\n",
    "def home():\n",
    "    return f\"Click here to visit <a href='{url_for('about')}'>About</a> page.\"\n",
    "\n",
    "@app.route('/about')\n",
    "def about():\n",
    "    return \"This is the About Page.\"\n",
    "\n",
    "if __name__ == '__main__':\n",
    "    app.run(debug=True)\n"
   ]
  },
  {
   "cell_type": "markdown",
   "id": "1b467341-d267-40c4-95d3-c4701b57659d",
   "metadata": {},
   "source": [
    "6. How do you handle forms in Flask?\n"
   ]
  },
  {
   "cell_type": "code",
   "execution_count": null,
   "id": "dfa2da0d-a886-4f5a-8c58-bcf9c676eb67",
   "metadata": {},
   "outputs": [],
   "source": [
    "from flask import request\n",
    "\n",
    "@app.route('/form', methods=['GET', 'POST'])\n",
    "def form():\n",
    "    if request.method == 'POST':\n",
    "        name = request.form['name']\n",
    "        return f\"Hello, {name}\"\n",
    "    return render_template('form.html')\n"
   ]
  },
  {
   "cell_type": "markdown",
   "id": "215797b5-2063-41fd-9131-db7f7cfa8158",
   "metadata": {},
   "source": [
    "7. How can you validate form data in Flask?"
   ]
  },
  {
   "cell_type": "code",
   "execution_count": null,
   "id": "d4d309b4-c6d0-428a-ad28-b3760acb9ba6",
   "metadata": {},
   "outputs": [],
   "source": [
    "from flask import Flask, request, render_template_string\n",
    "\n",
    "app = Flask(__name__)\n",
    "\n",
    "@app.route('/form', methods=['GET', 'POST'])\n",
    "def form():\n",
    "    form_html = '''\n",
    "    <form method=\"POST\">\n",
    "      Enter name: <input type=\"text\" name=\"name\">\n",
    "      <input type=\"submit\" value=\"Submit\">\n",
    "    </form>\n",
    "    '''\n",
    "    if request.method == 'POST':\n",
    "        name = request.form.get('name')\n",
    "        if not name:\n",
    "            return \"Please enter your name!\"\n",
    "        return f\"Hello, {name}!\"\n",
    "    return render_template_string(form_html)\n",
    "\n",
    "if __name__ == '__main__':\n",
    "    app.run(debug=True)\n"
   ]
  },
  {
   "cell_type": "markdown",
   "id": "59f574cc-0fac-4b9c-9a5a-51a3afc4ceb2",
   "metadata": {},
   "source": [
    "8. How do you manage sessions in Flask?"
   ]
  },
  {
   "cell_type": "code",
   "execution_count": null,
   "id": "cb79a31a-1ffd-4ba7-80d0-0bf7256f9a20",
   "metadata": {},
   "outputs": [],
   "source": [
    "from flask import session\n",
    "\n",
    "app.secret_key = 'your_secret_key'\n",
    "\n",
    "@app.route('/login')\n",
    "def login():\n",
    "    session['user'] = 'Harsh'\n",
    "    return 'Logged in'\n",
    "\n",
    "@app.route('/logout')\n",
    "def logout():\n",
    "    session.pop('user', None)\n",
    "    return 'Logged out'\n"
   ]
  },
  {
   "cell_type": "markdown",
   "id": "498191bd-b86b-43d9-9675-97760dce037c",
   "metadata": {},
   "source": [
    "9. How do you redirect to a different route in Flask?"
   ]
  },
  {
   "cell_type": "code",
   "execution_count": null,
   "id": "0d30f486-6d0b-48c4-971b-c90710daca13",
   "metadata": {},
   "outputs": [],
   "source": [
    "from flask import redirect, url_for\n",
    "\n",
    "@app.route('/old')\n",
    "def old():\n",
    "    return redirect(url_for('new'))\n",
    "\n",
    "@app.route('/new')\n",
    "def new():\n",
    "    return 'New Page'\n"
   ]
  },
  {
   "cell_type": "markdown",
   "id": "78c8039e-3336-43db-9f32-190572c26aff",
   "metadata": {},
   "source": [
    "10. How do you handle errors in Flask (e.g., 404)?"
   ]
  },
  {
   "cell_type": "code",
   "execution_count": 79,
   "id": "9fba6221-c781-4d92-a09c-645c2ff3f82a",
   "metadata": {},
   "outputs": [],
   "source": [
    "@app.errorhandler(404)\n",
    "def page_not_found(e):\n",
    "    return render_template('404.html'), 404\n"
   ]
  },
  {
   "cell_type": "markdown",
   "id": "f45892f6-1bba-4ba7-aac2-0525ae80d6b9",
   "metadata": {},
   "source": [
    "11. How do you structure a Flask app using Blueprints?"
   ]
  },
  {
   "cell_type": "code",
   "execution_count": 80,
   "id": "7f9a354b-983b-4191-908c-9e20548b0b67",
   "metadata": {},
   "outputs": [
    {
     "ename": "ModuleNotFoundError",
     "evalue": "No module named 'user'",
     "output_type": "error",
     "traceback": [
      "\u001b[1;31m---------------------------------------------------------------------------\u001b[0m",
      "\u001b[1;31mModuleNotFoundError\u001b[0m                       Traceback (most recent call last)",
      "Cell \u001b[1;32mIn[80], line 11\u001b[0m\n\u001b[0;32m      7\u001b[0m     \u001b[38;5;28;01mreturn\u001b[39;00m \u001b[38;5;124m\"\u001b[39m\u001b[38;5;124mUser Profile Page\u001b[39m\u001b[38;5;124m\"\u001b[39m\n\u001b[0;32m     10\u001b[0m \u001b[38;5;28;01mfrom\u001b[39;00m \u001b[38;5;21;01mflask\u001b[39;00m \u001b[38;5;28;01mimport\u001b[39;00m Flask\n\u001b[1;32m---> 11\u001b[0m \u001b[38;5;28;01mfrom\u001b[39;00m \u001b[38;5;21;01muser\u001b[39;00m \u001b[38;5;28;01mimport\u001b[39;00m user_bp\n\u001b[0;32m     13\u001b[0m app \u001b[38;5;241m=\u001b[39m Flask(\u001b[38;5;18m__name__\u001b[39m)\n\u001b[0;32m     14\u001b[0m app\u001b[38;5;241m.\u001b[39mregister_blueprint(user_bp, url_prefix\u001b[38;5;241m=\u001b[39m\u001b[38;5;124m'\u001b[39m\u001b[38;5;124m/user\u001b[39m\u001b[38;5;124m'\u001b[39m)\n",
      "\u001b[1;31mModuleNotFoundError\u001b[0m: No module named 'user'"
     ]
    }
   ],
   "source": [
    "\n",
    "from flask import Blueprint\n",
    "\n",
    "user_bp = Blueprint('user', __name__)\n",
    "\n",
    "@user_bp.route('/profile')\n",
    "def profile():\n",
    "    return \"User Profile Page\"\n",
    "\n",
    "\n",
    "from flask import Flask\n",
    "from user import user_bp\n",
    "\n",
    "app = Flask(__name__)\n",
    "app.register_blueprint(user_bp, url_prefix='/user')\n",
    "\n",
    "@app.route('/')\n",
    "def home():\n",
    "    return \"Home Page\"\n",
    "\n",
    "if __name__ == '__main__':\n",
    "    app.run(debug=True)\n"
   ]
  },
  {
   "cell_type": "markdown",
   "id": "c3314970-8d86-41c0-b177-0a4a900b187c",
   "metadata": {},
   "source": [
    "12. How do you define a custom Jinja filter in Flask?"
   ]
  },
  {
   "cell_type": "code",
   "execution_count": 81,
   "id": "700b3fe0-d506-4bc6-a8f9-b1be0cf20bbc",
   "metadata": {},
   "outputs": [],
   "source": [
    "@app.template_filter('reverse')\n",
    "def reverse_string(s):\n",
    "    return s[::-1]\n",
    "\n",
    "\n"
   ]
  },
  {
   "cell_type": "markdown",
   "id": "fc8ad3e4-c15c-4bf2-82fa-748f2c4919c6",
   "metadata": {},
   "source": [
    "13. How can you redirect with query parameters in Flask?"
   ]
  },
  {
   "cell_type": "code",
   "execution_count": 82,
   "id": "679ab9d4-1132-4959-9a5d-9201b730c843",
   "metadata": {},
   "outputs": [],
   "source": [
    "from flask import redirect, url_for\n",
    "\n",
    "@app.route('/go')\n",
    "def go():\n",
    "    return redirect(url_for('result', name='Harsh'))\n",
    "\n",
    "@app.route('/result')\n",
    "def result():\n",
    "    name = request.args.get('name')\n",
    "    return f'Hello, {name}'\n"
   ]
  },
  {
   "cell_type": "markdown",
   "id": "6ebc13a2-8a1d-49b7-b93d-8801ab2d968f",
   "metadata": {},
   "source": [
    "14. How do you return JSON responses in Flask?"
   ]
  },
  {
   "cell_type": "code",
   "execution_count": 83,
   "id": "1565cb5d-3da4-4be6-9f44-6094f7c80747",
   "metadata": {},
   "outputs": [],
   "source": [
    "from flask import jsonify\n",
    "\n",
    "@app.route('/data')\n",
    "def data():\n",
    "    return jsonify({'name': 'Harsh', 'role': 'Developer'})\n"
   ]
  },
  {
   "cell_type": "markdown",
   "id": "39c5d528-55de-4021-bf48-bcfaa80984f2",
   "metadata": {},
   "source": [
    "15. How do you capture URL parameters in Flask?"
   ]
  },
  {
   "cell_type": "code",
   "execution_count": 84,
   "id": "b92ccef8-c780-4a24-bfb9-b275df4a66b4",
   "metadata": {},
   "outputs": [],
   "source": [
    "@app.route('/user/<username>')\n",
    "def profile(username):\n",
    "    return f\"Hello, {username}!\"\n",
    "\n",
    "@app.route('/post/<int:post_id>')\n",
    "def post(post_id):\n",
    "    return f\"Post ID: {post_id}\"\n"
   ]
  },
  {
   "cell_type": "code",
   "execution_count": null,
   "id": "08699269-925d-4d11-8c2d-7a7ad4d3627f",
   "metadata": {},
   "outputs": [],
   "source": []
  },
  {
   "cell_type": "code",
   "execution_count": null,
   "id": "e17cfda9-98de-4d78-b816-b384492fdba3",
   "metadata": {},
   "outputs": [],
   "source": []
  }
 ],
 "metadata": {
  "kernelspec": {
   "display_name": "Python 3 (ipykernel)",
   "language": "python",
   "name": "python3"
  },
  "language_info": {
   "codemirror_mode": {
    "name": "ipython",
    "version": 3
   },
   "file_extension": ".py",
   "mimetype": "text/x-python",
   "name": "python",
   "nbconvert_exporter": "python",
   "pygments_lexer": "ipython3",
   "version": "3.12.7"
  }
 },
 "nbformat": 4,
 "nbformat_minor": 5
}
