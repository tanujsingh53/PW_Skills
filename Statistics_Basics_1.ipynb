{
  "cells": [
    {
      "cell_type": "markdown",
      "id": "d15d0185-0d84-443d-9a6a-090484c181de",
      "metadata": {
        "id": "d15d0185-0d84-443d-9a6a-090484c181de"
      },
      "source": [
        "# Statistics Basics"
      ]
    },
    {
      "cell_type": "markdown",
      "id": "dff7f0e4-ff85-4ac8-9842-d680a636ee3a",
      "metadata": {
        "id": "dff7f0e4-ff85-4ac8-9842-d680a636ee3a"
      },
      "source": [
        "1. What is statistics, and why is it important?\n",
        "\n",
        "Answer: As a data analyst, statistics is the foundation for making sense of data.\n",
        "\n",
        "*   Helps uncover patterns and trends\n",
        "*   Supports data-driven decision-making\n",
        "*   Validates hypotheses with evidence\n",
        "*   Enables accurate predictions and insights.\n",
        "\n",
        "Statistics powers analysis, turning raw data into actionable insights.\n",
        "\n",
        "\n"
      ]
    },
    {
      "cell_type": "markdown",
      "id": "e1a7516a-ab0c-4b72-9894-a6021bb2c667",
      "metadata": {
        "id": "e1a7516a-ab0c-4b72-9894-a6021bb2c667"
      },
      "source": [
        "2. What are the two main types of statistics?\n",
        "\n",
        "Answer:\n",
        "\n",
        "Descriptive statistics: Summarize and describe features of a dataset.\n",
        "\n",
        "Inferential statistics: Draw conclusions about a population based on a sample"
      ]
    },
    {
      "cell_type": "markdown",
      "id": "fe84cf1d-1ae1-4ddf-8bc8-b66c70257fa6",
      "metadata": {
        "id": "fe84cf1d-1ae1-4ddf-8bc8-b66c70257fa6"
      },
      "source": [
        "3. What are descriptive statistics?\n",
        "\n",
        "Answer: Descriptive statistics summarize the main characteristics of a dataset—such as central tendency, variability, and distribution shape—using numbers and graphs ."
      ]
    },
    {
      "cell_type": "markdown",
      "id": "f30e70b0-c771-4978-9540-277f30a9171a",
      "metadata": {
        "id": "f30e70b0-c771-4978-9540-277f30a9171a"
      },
      "source": [
        "4. What is inferential statistics?\n",
        "\n",
        "Answer: Inferential statistics permit generalizing from samples to populations. It includes tools like hypothesis testing, confidence intervals, regression, and correlation to make predictions with uncertainty measures"
      ]
    },
    {
      "cell_type": "markdown",
      "id": "1747630b-bbcf-4c5d-92e5-60e037ce7388",
      "metadata": {
        "id": "1747630b-bbcf-4c5d-92e5-60e037ce7388"
      },
      "source": [
        "5. What is sampling in statistics?\n",
        "\n",
        "Answer: Sampling involves selecting a subset (sample) of individuals from a larger group (population) to estimate and infer the characteristics of the broader population .\n",
        "\n"
      ]
    },
    {
      "cell_type": "markdown",
      "id": "9983a0f1-25b1-4557-857e-9a78d36dc88b",
      "metadata": {
        "id": "9983a0f1-25b1-4557-857e-9a78d36dc88b"
      },
      "source": [
        "6. What are the different types of sampling methods?\n",
        "\n",
        "Answer:\n",
        "\n",
        "Simple random sampling: Every individual has an equal chance of selection.\n",
        "\n",
        "Stratified sampling: Population divided into subgroups; samples taken from each.\n",
        "\n",
        "Cluster sampling: Entire clusters are randomly selected.\n",
        "\n",
        "Systematic sampling: Selecting every kth individual"
      ]
    },
    {
      "cell_type": "markdown",
      "id": "25422823-602e-4937-aa53-55e52ebcd3a2",
      "metadata": {
        "id": "25422823-602e-4937-aa53-55e52ebcd3a2"
      },
      "source": [
        "7. What is the difference between random and non-random sampling?\n",
        "\n",
        "Answer:\n",
        "\n",
        "Random sampling: Each member has an equal selection chance, reducing bias.\n",
        "\n",
        "Non-random sampling: Selection isn't equally probable (e.g., convenience sampling), which can yield biased results"
      ]
    },
    {
      "cell_type": "markdown",
      "id": "a0177ebd-6049-492e-b528-1978db73fc01",
      "metadata": {
        "id": "a0177ebd-6049-492e-b528-1978db73fc01"
      },
      "source": [
        "8. Define and give examples of qualitative and quantitative data.\n",
        "\n",
        "Answer:\n",
        "\n",
        "Qualitative (categorical): Non-numeric descriptors—e.g., color, brand, gender.\n",
        "\n",
        "Quantitative: Numeric data—e.g., age, weight, income, test scores"
      ]
    },
    {
      "cell_type": "markdown",
      "id": "5a2b6d03-9c11-4139-b12e-3d54b5624151",
      "metadata": {
        "id": "5a2b6d03-9c11-4139-b12e-3d54b5624151"
      },
      "source": [
        "9. What are the different types of data in statistics?\n",
        "\n",
        "Answer:\n",
        "\n",
        "Qualitative (categorical)\n",
        "\n",
        "Quantitative:\n",
        "\n",
        "Discrete: Countable (e.g., number of students)\n",
        "\n",
        "Continuous: Measurable (e.g., height, temperature)"
      ]
    },
    {
      "cell_type": "markdown",
      "id": "6c40eb36-4006-4053-b6c1-97d547949a13",
      "metadata": {
        "id": "6c40eb36-4006-4053-b6c1-97d547949a13"
      },
      "source": [
        "10. Explain nominal, ordinal, interval, and ratio levels of measurement.\n",
        "\n",
        "Answer:\n",
        "\n",
        "Nominal: Categories without order (e.g., eye color).\n",
        "\n",
        "Ordinal: Ordered categories (e.g., satisfaction levels).\n",
        "\n",
        "Interval: Numeric data with equal spacing, no true zero (e.g., Celsius).\n",
        "\n",
        "Ratio: Numeric data with equal spacing and meaningful zero (e.g., weight) ."
      ]
    },
    {
      "cell_type": "markdown",
      "id": "b19038f7-ffce-4cdc-9af5-3c417615e5fa",
      "metadata": {
        "id": "b19038f7-ffce-4cdc-9af5-3c417615e5fa"
      },
      "source": [
        "11. What is the measure of central tendency?\n",
        "\n",
        "Answer: Central tendency identifies the “center” of data, commonly measured by mean, median, and mode ."
      ]
    },
    {
      "cell_type": "markdown",
      "id": "86d40f3f-4ddc-474c-809c-c48ee3694767",
      "metadata": {
        "id": "86d40f3f-4ddc-474c-809c-c48ee3694767"
      },
      "source": [
        "12. Define mean, median, and mode.\n",
        "\n",
        "Answer:\n",
        "\n",
        "Mean: Arithmetic average (sum of values ÷ count).\n",
        "\n",
        "Median: Middle value in ordered dataset.\n",
        "\n",
        "Mode: Most frequently occurring value .\n",
        "\n"
      ]
    },
    {
      "cell_type": "markdown",
      "id": "855b60cb-bc63-4bb3-8b1c-6f0533b67b80",
      "metadata": {
        "id": "855b60cb-bc63-4bb3-8b1c-6f0533b67b80"
      },
      "source": [
        "13. What is the significance of the measure of central tendency?\n",
        "\n",
        "Answer: They provide concise summaries of data’s center. Mean is used widely, median is robust to outliers, and mode shows the most common category or value .\n",
        "\n"
      ]
    },
    {
      "cell_type": "markdown",
      "id": "220c8cda-0cf6-4e01-a012-b58eb4938b61",
      "metadata": {
        "id": "220c8cda-0cf6-4e01-a012-b58eb4938b61"
      },
      "source": [
        "14. What is variance, and how is it calculated?\n",
        "\n",
        "Answer: Variance measures the average squared difference from the mean\n",
        "𝜎\n",
        "2\n",
        "=\n",
        "∑\n",
        "(\n",
        "𝑥\n",
        "𝑖\n",
        "−\n",
        "𝜇\n",
        ")\n",
        "2\n",
        "𝑁\n",
        ";\n",
        "𝑠\n",
        "2\n",
        "=\n",
        "∑\n",
        "(\n",
        "𝑥\n",
        "𝑖\n",
        "−\n",
        "𝑥\n",
        "ˉ\n",
        ")\n",
        "2\n",
        "𝑛\n",
        "−\n",
        "1\n",
        "σ\n",
        "2\n",
        " =\n",
        "N\n",
        "∑(x\n",
        "i\n",
        "​\n",
        " −μ)\n",
        "2\n",
        "\n",
        "​\n",
        " ;s\n",
        "2\n",
        " =\n",
        "n−1\n",
        "∑(x\n",
        "i\n",
        "​\n",
        " −\n",
        "x\n",
        "ˉ\n",
        " )\n",
        "2\n",
        "\n",
        "​\n",
        "\n",
        "\n",
        "It quantifies data spread"
      ]
    },
    {
      "cell_type": "markdown",
      "id": "b060d9f1-ddb7-42e4-9b4f-e8108ba7186c",
      "metadata": {
        "id": "b060d9f1-ddb7-42e4-9b4f-e8108ba7186c"
      },
      "source": [
        "15. What is skewness in a dataset?\n",
        "\n",
        "Answer: Skewness quantifies the asymmetry of a distribution:\n",
        "\n",
        "Positive skew: Right (higher) tail longer.\n",
        "\n",
        "Negative skew: Left (lower) tail longer"
      ]
    },
    {
      "cell_type": "markdown",
      "id": "72d0674d-050b-45b5-8698-8633a75a8e09",
      "metadata": {
        "id": "72d0674d-050b-45b5-8698-8633a75a8e09"
      },
      "source": [
        "16. What is standard deviation, and why is it important?\n",
        "\n",
        "Answer: Standard deviation is the square root of variance, expressing average deviation around the mean in the original units—crucial for understanding variability and used in inferential analyses"
      ]
    },
    {
      "cell_type": "markdown",
      "id": "8aa95667-0a39-46bc-8225-e9386c2bb1ab",
      "metadata": {
        "id": "8aa95667-0a39-46bc-8225-e9386c2bb1ab"
      },
      "source": [
        "17. Define and explain range in statistics.\n",
        "\n",
        "Answer: range is the difference between the maximum and minimum value of range\n",
        "\n",
        "Range=Max−Min\n",
        "It’s a simple spread measure, though sensitive to outliers .\n",
        "\n"
      ]
    },
    {
      "cell_type": "markdown",
      "id": "aa00c502-746f-4511-b4f7-f6070f298543",
      "metadata": {
        "id": "aa00c502-746f-4511-b4f7-f6070f298543"
      },
      "source": [
        "18. What is the difference between variance and standard deviation?\n",
        "\n",
        "Answer: Variance is the mean of squared deviations; standard deviation is its square root, expressed in original units, making it more interpretable.\n",
        "\n"
      ]
    },
    {
      "cell_type": "markdown",
      "id": "1ecd9cda-536f-4cd3-8330-0c2578783e59",
      "metadata": {
        "id": "1ecd9cda-536f-4cd3-8330-0c2578783e59"
      },
      "source": [
        "19. What does it mean if a dataset is positively or negatively skewed?\n",
        "\n",
        "Answer:\n",
        "\n",
        "Positively skewed: Long right tail; most values are on the lower side.\n",
        "\n",
        "Negatively skewed: Long left tail; most values are on the higher side"
      ]
    },
    {
      "cell_type": "markdown",
      "id": "d5ff34cc-e6ed-4f0b-8f86-c3fd6b12e67e",
      "metadata": {
        "id": "d5ff34cc-e6ed-4f0b-8f86-c3fd6b12e67e"
      },
      "source": [
        "20. Define and explain kurtosis.\n",
        "\n",
        "Answer: Kurtosis measures tail extremity (outliers):\n",
        "\n",
        "Leptokurtic (positive): Heavy tails—many outliers.\n",
        "\n",
        "Platykurtic (negative): Light tails—few outliers.\n",
        "Excess kurtosis compares against a normal distribution's kurtosis of 0"
      ]
    },
    {
      "cell_type": "markdown",
      "id": "2f8fc038-9c90-41a5-b2df-472e483938a3",
      "metadata": {
        "id": "2f8fc038-9c90-41a5-b2df-472e483938a3"
      },
      "source": [
        "21. What is the purpose of covariance?\n",
        "\n",
        "Answer: Covariance indicates how two variables vary together. Positive covariance means they increase together; negative means they move inversely.\n",
        "\n"
      ]
    },
    {
      "cell_type": "markdown",
      "id": "05075d5d-6085-4cca-a8cc-b8f8e07e1f03",
      "metadata": {
        "id": "05075d5d-6085-4cca-a8cc-b8f8e07e1f03"
      },
      "source": [
        "22. What does correlation measure in statistics?\n",
        "\n",
        "Answer: Correlation (Pearson’s r) measures both the strength and direction of a linear relationship, standardized between –1 and +1."
      ]
    },
    {
      "cell_type": "markdown",
      "id": "4a8f1630-8d62-4757-af59-46f571d0518c",
      "metadata": {
        "id": "4a8f1630-8d62-4757-af59-46f571d0518c"
      },
      "source": [
        "23. What is the difference between covariance and correlation?\n",
        "\n",
        "Answer:\n",
        "\n",
        "Covariance: Reflects joint variability but depends on units.\n",
        "\n",
        "Correlation: Standardized covariance, unitless and directly interpretable.\n",
        "\n"
      ]
    },
    {
      "cell_type": "markdown",
      "id": "2f45fde3-d99b-4d7e-bfa3-a7a687c6d46c",
      "metadata": {
        "id": "2f45fde3-d99b-4d7e-bfa3-a7a687c6d46c"
      },
      "source": [
        "24. What are some real-world applications of statistics?\n",
        "\n",
        "Answer: Statistics is used in:\n",
        "\n",
        "Healthcare: Clinical trials, epidemiology.\n",
        "\n",
        "Business: Market research, quality control.\n",
        "\n",
        "Finance: Risk analysis, investment modeling.\n",
        "\n",
        "Government: Census data, policy evaluation.\n",
        "\n",
        "Science & Engineering: Experimental analysis.\n",
        "\n",
        "Social Sciences: Survey and behavioral research.\n",
        "\n",
        "Sports: Performance metrics and predictive analytics"
      ]
    },
    {
      "cell_type": "markdown",
      "id": "cc8e84e7-62c7-4643-99fd-6591eb1bd0f9",
      "metadata": {
        "id": "cc8e84e7-62c7-4643-99fd-6591eb1bd0f9"
      },
      "source": [
        "#  Practical"
      ]
    },
    {
      "cell_type": "markdown",
      "id": "0c3cf683-de80-4947-b93c-06bff7e02439",
      "metadata": {
        "id": "0c3cf683-de80-4947-b93c-06bff7e02439"
      },
      "source": [
        "1) How do you calculate the mean, median, and mode of a dataset?"
      ]
    },
    {
      "cell_type": "code",
      "execution_count": 3,
      "id": "0932a825-6803-4c91-9237-941767eeaabe",
      "metadata": {
        "colab": {
          "base_uri": "https://localhost:8080/"
        },
        "id": "0932a825-6803-4c91-9237-941767eeaabe",
        "outputId": "bf0a11bd-5d2d-4b03-cb08-47c568648b7f"
      },
      "outputs": [
        {
          "output_type": "stream",
          "name": "stdout",
          "text": [
            "mean 5\n",
            "median 4.5\n",
            "mode [4]\n"
          ]
        }
      ],
      "source": [
        "import statistics as stats\n",
        "from statistics import multimode\n",
        "data=[2,4,4,4,5,5,7,9]\n",
        "print(\"mean\",stats.mean(data))\n",
        "print(\"median\",stats.median(data))\n",
        "print(\"mode\",stats.multimode(data))"
      ]
    },
    {
      "cell_type": "markdown",
      "id": "f028b587-f449-4550-8238-249b1a74e749",
      "metadata": {
        "id": "f028b587-f449-4550-8238-249b1a74e749"
      },
      "source": [
        "2) Write a Python program to compute the variance and standard deviation of a dataset?\n"
      ]
    },
    {
      "cell_type": "code",
      "execution_count": 4,
      "id": "3028877e-ede4-410e-aada-a2d1dfe0ddf9",
      "metadata": {
        "colab": {
          "base_uri": "https://localhost:8080/"
        },
        "id": "3028877e-ede4-410e-aada-a2d1dfe0ddf9",
        "outputId": "f7588ca1-50af-42c3-c5d2-ef8df124ff6b"
      },
      "outputs": [
        {
          "output_type": "stream",
          "name": "stdout",
          "text": [
            "variance 4\n",
            "Std_Dev: 2.138089935299395\n"
          ]
        }
      ],
      "source": [
        "data=[2,4,4,4,5,5,7,9]\n",
        "import statistics as stats\n",
        "\n",
        "variance=stats.pvariance(data)\n",
        "print(\"variance\",stats.pvariance(data))\n",
        "\n",
        "std_dev=stats.stdev(data)\n",
        "print(\"Std_Dev:\",stats.stdev(data))\n"
      ]
    },
    {
      "cell_type": "markdown",
      "id": "bdb3ff42-522e-4ee5-8880-8af6eb51504d",
      "metadata": {
        "id": "bdb3ff42-522e-4ee5-8880-8af6eb51504d"
      },
      "source": [
        " 3. Q: Create a dataset and classify each column into nominal, ordinal, interval, and ratio types."
      ]
    },
    {
      "cell_type": "code",
      "execution_count": 7,
      "id": "6baa7504-9266-46dd-b045-3d015e0196c7",
      "metadata": {
        "colab": {
          "base_uri": "https://localhost:8080/"
        },
        "id": "6baa7504-9266-46dd-b045-3d015e0196c7",
        "outputId": "8a69d3db-440b-4215-fbe9-dcdc43806e9b"
      },
      "outputs": [
        {
          "output_type": "stream",
          "name": "stdout",
          "text": [
            "       Name  Gender    Education  Temperature_C  Income\n",
            "0    Rachel  Female  High School           36.6   25000\n",
            "1      Ross    Male     Bachelor           37.0   30000\n",
            "2  Chandler    Male       Master           36.8   45000\n",
            "3    Monica  Female          PhD           37.2   60000\n"
          ]
        }
      ],
      "source": [
        "import pandas as pd\n",
        "\n",
        "df = pd.DataFrame({\n",
        "    'Name': ['Rachel', 'Ross', 'Chandler', 'Monica'],\n",
        "    'Gender': ['Female', 'Male', 'Male', 'Female'],  # Nominal\n",
        "    'Education': ['High School', 'Bachelor', 'Master', 'PhD'],  # Ordinal\n",
        "    'Temperature_C': [36.6, 37.0, 36.8, 37.2],  # Interval\n",
        "    'Income': [25000, 30000, 45000, 60000]  # Ratio\n",
        "})\n",
        "\n",
        "print(df)\n"
      ]
    },
    {
      "cell_type": "markdown",
      "id": "189a832e-9626-4b83-911b-29c32834f6b8",
      "metadata": {
        "id": "189a832e-9626-4b83-911b-29c32834f6b8"
      },
      "source": [
        "4. Q: Implement random sampling and stratified sampling using a dataset."
      ]
    },
    {
      "cell_type": "code",
      "execution_count": 18,
      "id": "978f79df-cc7a-4b1c-a04b-283304b85d9d",
      "metadata": {
        "colab": {
          "base_uri": "https://localhost:8080/"
        },
        "id": "978f79df-cc7a-4b1c-a04b-283304b85d9d",
        "outputId": "855b148e-18ab-4354-c659-995bcc56f30f"
      },
      "outputs": [
        {
          "output_type": "stream",
          "name": "stdout",
          "text": [
            "Random Sample:\n",
            "      Name Gender  Score\n",
            "0  Rachel      F     85\n",
            "1    Ross      M     90\n",
            "5   Frank      F     76\n",
            "Stratified Sample:\n",
            "      Name Gender  Score\n",
            "5   Frank      F     76\n",
            "0  Rachel      F     85\n",
            "4    Joey      M     88\n"
          ]
        }
      ],
      "source": [
        "# Dataset\n",
        "df = pd.DataFrame({\n",
        "    'Name': ['Rachel', 'Ross', 'Chandler', 'Monica', 'Joey', 'Frank'],\n",
        "    'Gender': ['F', 'M', 'M', 'F', 'M', 'F'],\n",
        "    'Score': [85, 90, 78, 92, 88, 76]\n",
        "})\n",
        "\n",
        "# Random Sampling\n",
        "random_sample = df.sample(n=3, random_state=42)\n",
        "print(\"Random Sample:\\n\", random_sample)\n",
        "\n",
        "# Stratified Sampling\n",
        "from sklearn.model_selection import StratifiedShuffleSplit\n",
        "\n",
        "split = StratifiedShuffleSplit(n_splits=1, test_size=0.5, random_state=42)\n",
        "for train_idx, test_idx in split.split(df, df['Gender']):\n",
        "    stratified_sample = df.loc[test_idx]\n",
        "\n",
        "print(\"Stratified Sample:\\n\", stratified_sample)\n"
      ]
    },
    {
      "cell_type": "markdown",
      "id": "4805cee6-951f-47bd-bf0d-f6f707b6ee9c",
      "metadata": {
        "id": "4805cee6-951f-47bd-bf0d-f6f707b6ee9c"
      },
      "source": [
        "5. Q: Write a Python function to calculate the range of a dataset."
      ]
    },
    {
      "cell_type": "code",
      "execution_count": 19,
      "id": "505f5a7c-5921-4da8-8d3a-bea3702f022a",
      "metadata": {
        "colab": {
          "base_uri": "https://localhost:8080/"
        },
        "id": "505f5a7c-5921-4da8-8d3a-bea3702f022a",
        "outputId": "e4a17303-5c7e-4b81-bfa4-13c0d94d0e93"
      },
      "outputs": [
        {
          "output_type": "stream",
          "name": "stdout",
          "text": [
            "Range: 18\n"
          ]
        }
      ],
      "source": [
        "def calculate_range(data):\n",
        "    return max(data) - min(data)\n",
        "\n",
        "data = [12, 15, 20, 25, 30]\n",
        "print(\"Range:\", calculate_range(data))\n"
      ]
    },
    {
      "cell_type": "markdown",
      "id": "74ef87fc-5555-4985-bde3-88e4c1916872",
      "metadata": {
        "id": "74ef87fc-5555-4985-bde3-88e4c1916872"
      },
      "source": [
        " 6. Q: Create a dataset and plot its histogram to visualize skewness."
      ]
    },
    {
      "cell_type": "code",
      "execution_count": 20,
      "id": "a553504e-f59c-42f5-b89c-37ce78b54900",
      "metadata": {
        "colab": {
          "base_uri": "https://localhost:8080/",
          "height": 472
        },
        "id": "a553504e-f59c-42f5-b89c-37ce78b54900",
        "outputId": "f7e4e9ff-384f-429d-9dc2-b6627ac04ee0"
      },
      "outputs": [
        {
          "output_type": "display_data",
          "data": {
            "text/plain": [
              "<Figure size 640x480 with 1 Axes>"
            ],
            "image/png": "[encoded data removed]"
          },
          "metadata": {}
        }
      ],
      "source": [
        "import matplotlib.pyplot as plt\n",
        "\n",
        "data = [1, 2, 2, 3, 3, 3, 4, 4, 10]\n",
        "plt.hist(data, bins=5, edgecolor='black')\n",
        "plt.title('Histogram')\n",
        "plt.xlabel('Values')\n",
        "plt.ylabel('Frequency')\n",
        "plt.show()\n"
      ]
    },
    {
      "cell_type": "markdown",
      "id": "60b545b8-8445-4263-8077-a7332e635976",
      "metadata": {
        "id": "60b545b8-8445-4263-8077-a7332e635976"
      },
      "source": [
        "7. Q: Calculate skewness and kurtosis of a dataset using Python libraries."
      ]
    },
    {
      "cell_type": "code",
      "execution_count": 21,
      "id": "e89df7b9-143d-4fa1-a148-8e5f55d092f3",
      "metadata": {
        "colab": {
          "base_uri": "https://localhost:8080/"
        },
        "id": "e89df7b9-143d-4fa1-a148-8e5f55d092f3",
        "outputId": "5528d663-b36c-459a-b78c-be3cb68639b8"
      },
      "outputs": [
        {
          "output_type": "stream",
          "name": "stdout",
          "text": [
            "Skewness: 1.8264844667799076\n",
            "Kurtosis: 2.447477156678313\n"
          ]
        }
      ],
      "source": [
        "from scipy.stats import skew, kurtosis\n",
        "\n",
        "data = [1, 2, 2, 3, 3, 3, 4, 4, 10]\n",
        "print(\"Skewness:\", skew(data))\n",
        "print(\"Kurtosis:\", kurtosis(data))\n"
      ]
    },
    {
      "cell_type": "markdown",
      "id": "d281e152-7239-4eae-97d9-9f18ab90d53d",
      "metadata": {
        "id": "d281e152-7239-4eae-97d9-9f18ab90d53d"
      },
      "source": [
        "8. Q: Generate a dataset and demonstrate positive and negative skewness."
      ]
    },
    {
      "cell_type": "code",
      "execution_count": 22,
      "id": "8839a96c-22fe-4604-80c1-171a16313885",
      "metadata": {
        "colab": {
          "base_uri": "https://localhost:8080/",
          "height": 887
        },
        "id": "8839a96c-22fe-4604-80c1-171a16313885",
        "outputId": "c34f5ce9-7c8c-454b-8cd5-a7888998b279"
      },
      "outputs": [
        {
          "output_type": "display_data",
          "data": {
            "text/plain": [
              "<Figure size 640x480 with 1 Axes>"
            ],
            "image/png": "[encoded data removed]"
          },
          "metadata": {}
        },
        {
          "output_type": "display_data",
          "data": {
            "text/plain": [
              "<Figure size 640x480 with 1 Axes>"
            ],
            "image/png": "[encoded data removed]"
          },
          "metadata": {}
        }
      ],
      "source": [
        "import seaborn as sns\n",
        "import matplotlib.pyplot as plt\n",
        "import numpy as np\n",
        "\n",
        "# Positive Skew\n",
        "positive_skew = np.random.exponential(scale=2, size=1000)\n",
        "sns.histplot(positive_skew, kde=True)\n",
        "plt.title(\"Positive Skew\")\n",
        "plt.show()\n",
        "\n",
        "# Negative Skew\n",
        "negative_skew = -np.random.exponential(scale=2, size=1000)\n",
        "sns.histplot(negative_skew, kde=True)\n",
        "plt.title(\"Negative Skew\")\n",
        "plt.show()\n"
      ]
    },
    {
      "cell_type": "markdown",
      "id": "46bc9d01-c09c-44d1-93dd-790002ace8eb",
      "metadata": {
        "id": "46bc9d01-c09c-44d1-93dd-790002ace8eb"
      },
      "source": [
        "9. Q: Write a Python script to calculate covariance between two datasets."
      ]
    },
    {
      "cell_type": "code",
      "execution_count": 23,
      "id": "0832cec4-a343-428f-8ee9-01d519fe49b8",
      "metadata": {
        "colab": {
          "base_uri": "https://localhost:8080/"
        },
        "id": "0832cec4-a343-428f-8ee9-01d519fe49b8",
        "outputId": "e316d4a0-bddc-4cab-fa66-6d69222e4563"
      },
      "outputs": [
        {
          "output_type": "stream",
          "name": "stdout",
          "text": [
            "Covariance: 3.5\n"
          ]
        }
      ],
      "source": [
        "x = [1, 2, 3, 4, 5]\n",
        "y = [5, 4, 6, 8, 10]\n",
        "\n",
        "cov_matrix = np.cov(x, y)\n",
        "print(\"Covariance:\", cov_matrix[0][1])\n"
      ]
    },
    {
      "cell_type": "markdown",
      "id": "9a4d31e2-1ab9-4e80-86b1-249b9617f770",
      "metadata": {
        "id": "9a4d31e2-1ab9-4e80-86b1-249b9617f770"
      },
      "source": [
        "10. Q: Write a Python script to calculate the correlation coefficient between two datasets."
      ]
    },
    {
      "cell_type": "code",
      "execution_count": 24,
      "id": "47d9b11a-2446-4b50-b2ca-14f5db3a4e27",
      "metadata": {
        "colab": {
          "base_uri": "https://localhost:8080/"
        },
        "id": "47d9b11a-2446-4b50-b2ca-14f5db3a4e27",
        "outputId": "009844c3-62d9-40dc-dbed-bface6c54993"
      },
      "outputs": [
        {
          "output_type": "stream",
          "name": "stdout",
          "text": [
            "Correlation Coefficient: 0.9191450300180578\n"
          ]
        }
      ],
      "source": [
        "correlation = np.corrcoef(x, y)\n",
        "print(\"Correlation Coefficient:\", correlation[0][1])\n"
      ]
    },
    {
      "cell_type": "markdown",
      "id": "68b5ec7b-cb58-4250-a2cd-bcf228e34c57",
      "metadata": {
        "id": "68b5ec7b-cb58-4250-a2cd-bcf228e34c57"
      },
      "source": [
        "11. Q: Create a scatter plot to visualize the relationship between two variables."
      ]
    },
    {
      "cell_type": "code",
      "execution_count": 25,
      "id": "f2c3c73d-f84c-4267-880b-dc73f4f5e6f0",
      "metadata": {
        "colab": {
          "base_uri": "https://localhost:8080/",
          "height": 472
        },
        "id": "f2c3c73d-f84c-4267-880b-dc73f4f5e6f0",
        "outputId": "294bafb0-a8fa-412c-e292-7d36741d8d29"
      },
      "outputs": [
        {
          "output_type": "display_data",
          "data": {
            "text/plain": [
              "<Figure size 640x480 with 1 Axes>"
            ],
            "image/png": "[encoded data removed]"
          },
          "metadata": {}
        }
      ],
      "source": [
        "plt.scatter(x, y)\n",
        "plt.title(\"Scatter Plot\")\n",
        "plt.xlabel(\"X\")\n",
        "plt.ylabel(\"Y\")\n",
        "plt.show()\n"
      ]
    },
    {
      "cell_type": "markdown",
      "id": "edb09b9a-9461-4bb5-bb54-b2a54ec2e583",
      "metadata": {
        "id": "edb09b9a-9461-4bb5-bb54-b2a54ec2e583"
      },
      "source": [
        "12. Q: Implement and compare simple random sampling and systematic sampling."
      ]
    },
    {
      "cell_type": "code",
      "execution_count": 26,
      "id": "3e0f3a57-b155-48cd-a73d-ee6be4032ebf",
      "metadata": {
        "colab": {
          "base_uri": "https://localhost:8080/"
        },
        "id": "3e0f3a57-b155-48cd-a73d-ee6be4032ebf",
        "outputId": "40b2f12e-a31d-4570-8725-2c3dcb3da735"
      },
      "outputs": [
        {
          "output_type": "stream",
          "name": "stdout",
          "text": [
            "Simple Random Sample: [4, 78, 96, 18, 15, 32, 60, 7, 23, 66]\n",
            "Systematic Sample: [8, 18, 28, 38, 48, 58, 68, 78, 88, 98]\n"
          ]
        }
      ],
      "source": [
        "import random\n",
        "\n",
        "data = list(range(1, 101))\n",
        "\n",
        "# Simple Random Sampling\n",
        "random_sample = random.sample(data, 10)\n",
        "print(\"Simple Random Sample:\", random_sample)\n",
        "\n",
        "# Systematic Sampling\n",
        "k = 10\n",
        "start = random.randint(0, k-1)\n",
        "systematic_sample = data[start::k][:10]\n",
        "print(\"Systematic Sample:\", systematic_sample)\n"
      ]
    },
    {
      "cell_type": "markdown",
      "id": "595c5b4b-a5ff-4c13-a1b3-1dba974e34e3",
      "metadata": {
        "id": "595c5b4b-a5ff-4c13-a1b3-1dba974e34e3"
      },
      "source": [
        "13. Q: Calculate the mean, median, and mode of grouped data."
      ]
    },
    {
      "cell_type": "code",
      "execution_count": 27,
      "id": "42948404-c86c-4afa-b9a1-24d955740739",
      "metadata": {
        "colab": {
          "base_uri": "https://localhost:8080/"
        },
        "id": "42948404-c86c-4afa-b9a1-24d955740739",
        "outputId": "ed5c129b-d4c6-4043-c38c-f70e98923b98"
      },
      "outputs": [
        {
          "output_type": "stream",
          "name": "stdout",
          "text": [
            "Mean of grouped data: 16.0\n"
          ]
        }
      ],
      "source": [
        "import pandas as pd\n",
        "\n",
        "grouped_data = pd.DataFrame({\n",
        "    'Class Interval': ['0-10', '10-20', '20-30'],\n",
        "    'Frequency': [5, 8, 7]\n",
        "})\n",
        "\n",
        "# Midpoints\n",
        "grouped_data['Midpoint'] = [5, 15, 25]\n",
        "mean = sum(grouped_data['Midpoint'] * grouped_data['Frequency']) / sum(grouped_data['Frequency'])\n",
        "\n",
        "print(\"Mean of grouped data:\", mean)\n"
      ]
    },
    {
      "cell_type": "markdown",
      "id": "dcbf9f91-817f-42a3-8160-e2c0737a13ae",
      "metadata": {
        "id": "dcbf9f91-817f-42a3-8160-e2c0737a13ae"
      },
      "source": [
        "14. Q: Simulate data using Python and calculate its central tendency and dispersion.\n"
      ]
    },
    {
      "cell_type": "code",
      "execution_count": 28,
      "id": "0d29fed7-c4af-4df1-b6b5-97f680b60500",
      "metadata": {
        "colab": {
          "base_uri": "https://localhost:8080/"
        },
        "id": "0d29fed7-c4af-4df1-b6b5-97f680b60500",
        "outputId": "dd7fc849-6fed-4ca6-bc0e-76bed899b090"
      },
      "outputs": [
        {
          "output_type": "stream",
          "name": "stdout",
          "text": [
            "Mean: 50.674905401365166\n",
            "Median: 50.3453104200009\n",
            "Std Dev: 10.62167168192265\n",
            "Variance: 112.81990931855755\n"
          ]
        }
      ],
      "source": [
        "data = np.random.normal(loc=50, scale=10, size=100)\n",
        "\n",
        "print(\"Mean:\", np.mean(data))\n",
        "print(\"Median:\", np.median(data))\n",
        "print(\"Std Dev:\", np.std(data))\n",
        "print(\"Variance:\", np.var(data))\n"
      ]
    },
    {
      "cell_type": "markdown",
      "id": "288cb77e-3524-4d29-9322-fbfa907592ca",
      "metadata": {
        "id": "288cb77e-3524-4d29-9322-fbfa907592ca"
      },
      "source": [
        "15. Q: Use NumPy or pandas to summarize a dataset’s descriptive statistics."
      ]
    },
    {
      "cell_type": "code",
      "execution_count": 29,
      "id": "83dee11a-5312-42b7-9dba-824aa572c7e8",
      "metadata": {
        "colab": {
          "base_uri": "https://localhost:8080/"
        },
        "id": "83dee11a-5312-42b7-9dba-824aa572c7e8",
        "outputId": "85fcfd85-1d0d-42ff-f4f7-72ba9b0aabf6"
      },
      "outputs": [
        {
          "output_type": "stream",
          "name": "stdout",
          "text": [
            "           Marks\n",
            "count  20.000000\n",
            "mean   66.500000\n",
            "std    19.519221\n",
            "min    41.000000\n",
            "25%    47.500000\n",
            "50%    66.500000\n",
            "75%    80.750000\n",
            "max    98.000000\n"
          ]
        }
      ],
      "source": [
        "import pandas as pd\n",
        "\n",
        "df = pd.DataFrame({\n",
        "    'Marks': np.random.randint(40, 100, size=20)\n",
        "})\n",
        "print(df.describe())\n"
      ]
    },
    {
      "cell_type": "markdown",
      "id": "6fe77d81-2d58-40d7-8731-e5632f3b73ee",
      "metadata": {
        "id": "6fe77d81-2d58-40d7-8731-e5632f3b73ee"
      },
      "source": [
        "16. Q: Plot a boxplot to understand the spread and identify outliers."
      ]
    },
    {
      "cell_type": "code",
      "execution_count": 30,
      "id": "64b9b976-9970-4482-8c41-fce004bd6d59",
      "metadata": {
        "colab": {
          "base_uri": "https://localhost:8080/",
          "height": 433
        },
        "id": "64b9b976-9970-4482-8c41-fce004bd6d59",
        "outputId": "197d7847-81bb-4a24-c591-baded8b34190"
      },
      "outputs": [
        {
          "output_type": "display_data",
          "data": {
            "text/plain": [
              "<Figure size 640x480 with 1 Axes>"
            ],
            "image/png": "[encoded data removed]"
          },
          "metadata": {}
        }
      ],
      "source": [
        "sns.boxplot(y=df['Marks'])\n",
        "plt.title(\"Boxplot of Marks\")\n",
        "plt.show()\n"
      ]
    },
    {
      "cell_type": "markdown",
      "id": "23889e6f-f8f1-405d-bd65-7d767e6007e9",
      "metadata": {
        "id": "23889e6f-f8f1-405d-bd65-7d767e6007e9"
      },
      "source": [
        " 17. Q: Calculate the interquartile range (IQR) of a dataset."
      ]
    },
    {
      "cell_type": "code",
      "execution_count": 31,
      "id": "9c34501d-c4a2-47ed-a8fb-74e825814125",
      "metadata": {
        "colab": {
          "base_uri": "https://localhost:8080/"
        },
        "id": "9c34501d-c4a2-47ed-a8fb-74e825814125",
        "outputId": "0addbd0d-e500-4bad-d65c-c617e2a8f9d7"
      },
      "outputs": [
        {
          "output_type": "stream",
          "name": "stdout",
          "text": [
            "Interquartile Range (IQR): 14.707420172894956\n"
          ]
        }
      ],
      "source": [
        "Q1 = np.percentile(data, 25)\n",
        "Q3 = np.percentile(data, 75)\n",
        "IQR = Q3 - Q1\n",
        "print(\"Interquartile Range (IQR):\", IQR)\n"
      ]
    },
    {
      "cell_type": "markdown",
      "id": "b0909bcf-1c71-412c-bacd-b7614769210f",
      "metadata": {
        "id": "b0909bcf-1c71-412c-bacd-b7614769210f"
      },
      "source": [
        "18. Q: Implement Z-score normalization and explain its significance."
      ]
    },
    {
      "cell_type": "code",
      "execution_count": 32,
      "id": "cda19700-8ce7-4ccc-9d32-c942d0af33d6",
      "metadata": {
        "colab": {
          "base_uri": "https://localhost:8080/"
        },
        "id": "cda19700-8ce7-4ccc-9d32-c942d0af33d6",
        "outputId": "a6cd8308-bf9b-47cd-a417-ff579e062a74"
      },
      "outputs": [
        {
          "output_type": "stream",
          "name": "stdout",
          "text": [
            "Z-scores: [-0.22395912  1.39958311 -0.41369682  1.20092334  0.10799482]\n"
          ]
        }
      ],
      "source": [
        "from scipy.stats import zscore\n",
        "\n",
        "z_scores = zscore(data)\n",
        "print(\"Z-scores:\", z_scores[:5])\n"
      ]
    },
    {
      "cell_type": "markdown",
      "id": "0f6aa901-f575-4da1-a1af-414681ae357c",
      "metadata": {
        "id": "0f6aa901-f575-4da1-a1af-414681ae357c"
      },
      "source": [
        "19. Q: Compare two datasets using their standard deviations."
      ]
    },
    {
      "cell_type": "code",
      "execution_count": 33,
      "id": "2ba30858-dffe-46f7-be92-1dac12cc6d57",
      "metadata": {
        "colab": {
          "base_uri": "https://localhost:8080/"
        },
        "id": "2ba30858-dffe-46f7-be92-1dac12cc6d57",
        "outputId": "b0000b48-0ca6-4c72-e277-226b683dd92d"
      },
      "outputs": [
        {
          "output_type": "stream",
          "name": "stdout",
          "text": [
            "Std Dev A: 4.858960870353966\n",
            "Std Dev B: 20.571130397386128\n"
          ]
        }
      ],
      "source": [
        "a = np.random.normal(50, 5, 100)\n",
        "b = np.random.normal(50, 20, 100)\n",
        "\n",
        "print(\"Std Dev A:\", np.std(a))\n",
        "print(\"Std Dev B:\", np.std(b))\n"
      ]
    },
    {
      "cell_type": "markdown",
      "id": "19cf8fbf-f0e8-4f94-8360-15bd6f7a43f3",
      "metadata": {
        "id": "19cf8fbf-f0e8-4f94-8360-15bd6f7a43f3"
      },
      "source": [
        "20. Q: Write a Python program to visualize covariance using a heatmap.\n"
      ]
    },
    {
      "cell_type": "code",
      "execution_count": 34,
      "id": "4414e11f-696e-4fea-b7f4-0d27acd7a002",
      "metadata": {
        "colab": {
          "base_uri": "https://localhost:8080/",
          "height": 452
        },
        "id": "4414e11f-696e-4fea-b7f4-0d27acd7a002",
        "outputId": "f97d0592-5a15-4096-b1f4-6b2f0d3da6b7"
      },
      "outputs": [
        {
          "output_type": "display_data",
          "data": {
            "text/plain": [
              "<Figure size 640x480 with 2 Axes>"
            ],
            "image/png": "[encoded data removed]"
          },
          "metadata": {}
        }
      ],
      "source": [
        "import seaborn as sns\n",
        "\n",
        "df = pd.DataFrame({\n",
        "    'Math': np.random.randint(40, 100, 100),\n",
        "    'Science': np.random.randint(35, 95, 100)\n",
        "})\n",
        "\n",
        "cov = df.cov()\n",
        "sns.heatmap(cov, annot=True)\n",
        "plt.title(\"Covariance Heatmap\")\n",
        "plt.show()\n"
      ]
    },
    {
      "cell_type": "markdown",
      "id": "66602f7d-dc8c-47dc-9007-86f45dc48139",
      "metadata": {
        "id": "66602f7d-dc8c-47dc-9007-86f45dc48139"
      },
      "source": [
        " 21. Q: Use seaborn to create a correlation matrix for a dataset."
      ]
    },
    {
      "cell_type": "code",
      "execution_count": 35,
      "id": "f9b707b1-1f02-44e2-a91f-470d9295f860",
      "metadata": {
        "colab": {
          "base_uri": "https://localhost:8080/",
          "height": 452
        },
        "id": "f9b707b1-1f02-44e2-a91f-470d9295f860",
        "outputId": "81b8d7d1-0be9-4557-ec8d-72a46960f3f6"
      },
      "outputs": [
        {
          "output_type": "display_data",
          "data": {
            "text/plain": [
              "<Figure size 640x480 with 2 Axes>"
            ],
            "image/png": "[encoded data removed]"
          },
          "metadata": {}
        }
      ],
      "source": [
        "corr = df.corr()\n",
        "sns.heatmap(corr, annot=True, cmap='coolwarm')\n",
        "plt.title(\"Correlation Matrix\")\n",
        "plt.show()\n"
      ]
    },
    {
      "cell_type": "markdown",
      "id": "75e7a91d-e0ce-4261-ac2f-19d6f06fe17e",
      "metadata": {
        "id": "75e7a91d-e0ce-4261-ac2f-19d6f06fe17e"
      },
      "source": [
        "22. Q: Generate a dataset and implement both variance and standard deviation computations."
      ]
    },
    {
      "cell_type": "code",
      "execution_count": 36,
      "id": "f7446a74-3302-4778-b75f-81fd71221b1a",
      "metadata": {
        "colab": {
          "base_uri": "https://localhost:8080/"
        },
        "id": "f7446a74-3302-4778-b75f-81fd71221b1a",
        "outputId": "e896fc38-8eaa-4d10-ce6a-e7eb72229e73"
      },
      "outputs": [
        {
          "output_type": "stream",
          "name": "stdout",
          "text": [
            "Variance: 235.07819228283134\n",
            "Standard Deviation: 15.332259855703963\n"
          ]
        }
      ],
      "source": [
        "data = np.random.normal(70, 15, 100)\n",
        "\n",
        "print(\"Variance:\", np.var(data, ddof=1))\n",
        "print(\"Standard Deviation:\", np.std(data, ddof=1))\n"
      ]
    },
    {
      "cell_type": "markdown",
      "id": "833cc36f-db3a-4a36-b3a0-48075a94eafa",
      "metadata": {
        "id": "833cc36f-db3a-4a36-b3a0-48075a94eafa"
      },
      "source": [
        " 23. Q: Visualize skewness and kurtosis using Python libraries"
      ]
    },
    {
      "cell_type": "code",
      "execution_count": 37,
      "id": "af4f43ef-f873-40ec-b414-ead565b38d9a",
      "metadata": {
        "colab": {
          "base_uri": "https://localhost:8080/",
          "height": 487
        },
        "id": "af4f43ef-f873-40ec-b414-ead565b38d9a",
        "outputId": "4a2532ce-a1f7-4292-c885-8b61ef3f212a"
      },
      "outputs": [
        {
          "output_type": "display_data",
          "data": {
            "text/plain": [
              "<Figure size 640x480 with 1 Axes>"
            ],
            "image/png": "[encoded data removed]"
          },
          "metadata": {}
        },
        {
          "output_type": "stream",
          "name": "stdout",
          "text": [
            "Skewness: -0.45535839359835567\n",
            "Kurtosis: 0.5188998608669251\n"
          ]
        }
      ],
      "source": [
        "sns.histplot(data, kde=True)\n",
        "plt.title(\"Histogram\")\n",
        "plt.show()\n",
        "\n",
        "print(\"Skewness:\", skew(data))\n",
        "print(\"Kurtosis:\", kurtosis(data))\n"
      ]
    },
    {
      "cell_type": "markdown",
      "id": "53e54f09-3723-4f8c-b1ee-09b69ff88156",
      "metadata": {
        "id": "53e54f09-3723-4f8c-b1ee-09b69ff88156"
      },
      "source": [
        "24. Q: Implement the Pearson and Spearman correlation coefficients for a dataset."
      ]
    },
    {
      "cell_type": "code",
      "execution_count": 38,
      "id": "218fa15b-f65a-493b-9240-9d979b283473",
      "metadata": {
        "colab": {
          "base_uri": "https://localhost:8080/"
        },
        "id": "218fa15b-f65a-493b-9240-9d979b283473",
        "outputId": "1d6ecf2d-ed3a-493c-8516-ef242a671c2c"
      },
      "outputs": [
        {
          "output_type": "stream",
          "name": "stdout",
          "text": [
            "Pearson: PearsonRResult(statistic=np.float64(0.9970463407597911), pvalue=np.float64(0.0001926113765751))\n",
            "Spearman: SignificanceResult(statistic=np.float64(0.9999999999999999), pvalue=np.float64(1.4042654220543672e-24))\n"
          ]
        }
      ],
      "source": [
        "from scipy.stats import pearsonr, spearmanr\n",
        "\n",
        "x = [10, 20, 30, 40, 50]\n",
        "y = [12, 22, 28, 39, 48]\n",
        "\n",
        "print(\"Pearson:\", pearsonr(x, y))\n",
        "print(\"Spearman:\", spearmanr(x, y))\n"
      ]
    }
  ],
  "metadata": {
    "kernelspec": {
      "display_name": "Python 3 (ipykernel)",
      "language": "python",
      "name": "python3"
    },
    "language_info": {
      "codemirror_mode": {
        "name": "ipython",
        "version": 3
      },
      "file_extension": ".py",
      "mimetype": "text/x-python",
      "name": "python",
      "nbconvert_exporter": "python",
      "pygments_lexer": "ipython3",
      "version": "3.12.7"
    },
    "colab": {
      "provenance": []
    }
  },
  "nbformat": 4,
  "nbformat_minor": 5
}